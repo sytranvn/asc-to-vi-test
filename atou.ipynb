{
  "cells": [
    {
      "cell_type": "markdown",
      "id": "b0c0c37b-7caa-4b25-9bad-f4ee5e65cba0",
      "metadata": {
        "id": "b0c0c37b-7caa-4b25-9bad-f4ee5e65cba0"
      },
      "source": [
        "# Setup"
      ]
    },
    {
      "cell_type": "code",
      "source": [
        "!pip install -r requirements.txt"
      ],
      "metadata": {
        "colab": {
          "base_uri": "https://localhost:8080/"
        },
        "id": "zQXamqxhrcy5",
        "outputId": "24e112c1-db0c-47d6-e7d6-b95def1fbcaa"
      },
      "id": "zQXamqxhrcy5",
      "execution_count": 3,
      "outputs": [
        {
          "output_type": "stream",
          "name": "stdout",
          "text": [
            "Requirement already satisfied: jupyterlab>=4.4.1 in /usr/local/lib/python3.11/dist-packages (from -r requirements.txt (line 4)) (4.4.1)\n",
            "Requirement already satisfied: kaggle>=1.7.4.2 in /usr/local/lib/python3.11/dist-packages (from -r requirements.txt (line 5)) (1.7.4.2)\n",
            "Requirement already satisfied: kagglehub>=0.3.12 in /usr/local/lib/python3.11/dist-packages (from kagglehub[pandas-datasets]>=0.3.12->-r requirements.txt (line 6)) (0.3.12)\n",
            "Requirement already satisfied: matplotlib>=3.10.1 in /usr/local/lib/python3.11/dist-packages (from -r requirements.txt (line 7)) (3.10.1)\n",
            "Requirement already satisfied: tensorflow>=2.19.0 in /usr/local/lib/python3.11/dist-packages (from -r requirements.txt (line 8)) (2.19.0)\n",
            "Requirement already satisfied: tensorflow-datasets>=4.9.8 in /usr/local/lib/python3.11/dist-packages (from -r requirements.txt (line 9)) (4.9.8)\n",
            "Requirement already satisfied: tensorflow-text>=2.19.0 in /usr/local/lib/python3.11/dist-packages (from -r requirements.txt (line 10)) (2.19.0)\n",
            "Requirement already satisfied: tqdm>=4.67.1 in /usr/local/lib/python3.11/dist-packages (from -r requirements.txt (line 11)) (4.67.1)\n",
            "Requirement already satisfied: wrapt>=1.17.2 in /usr/local/lib/python3.11/dist-packages (from -r requirements.txt (line 12)) (1.17.2)\n",
            "Requirement already satisfied: async-lru>=1.0.0 in /usr/local/lib/python3.11/dist-packages (from jupyterlab>=4.4.1->-r requirements.txt (line 4)) (2.0.5)\n",
            "Requirement already satisfied: httpx>=0.25.0 in /usr/local/lib/python3.11/dist-packages (from jupyterlab>=4.4.1->-r requirements.txt (line 4)) (0.28.1)\n",
            "Requirement already satisfied: ipykernel>=6.5.0 in /usr/local/lib/python3.11/dist-packages (from jupyterlab>=4.4.1->-r requirements.txt (line 4)) (6.17.1)\n",
            "Requirement already satisfied: jinja2>=3.0.3 in /usr/local/lib/python3.11/dist-packages (from jupyterlab>=4.4.1->-r requirements.txt (line 4)) (3.1.6)\n",
            "Requirement already satisfied: jupyter-core in /usr/local/lib/python3.11/dist-packages (from jupyterlab>=4.4.1->-r requirements.txt (line 4)) (5.7.2)\n",
            "Requirement already satisfied: jupyter-lsp>=2.0.0 in /usr/local/lib/python3.11/dist-packages (from jupyterlab>=4.4.1->-r requirements.txt (line 4)) (2.2.5)\n",
            "Requirement already satisfied: jupyter-server<3,>=2.4.0 in /usr/local/lib/python3.11/dist-packages (from jupyterlab>=4.4.1->-r requirements.txt (line 4)) (2.15.0)\n",
            "Requirement already satisfied: jupyterlab-server<3,>=2.27.1 in /usr/local/lib/python3.11/dist-packages (from jupyterlab>=4.4.1->-r requirements.txt (line 4)) (2.27.3)\n",
            "Requirement already satisfied: notebook-shim>=0.2 in /usr/local/lib/python3.11/dist-packages (from jupyterlab>=4.4.1->-r requirements.txt (line 4)) (0.2.4)\n",
            "Requirement already satisfied: packaging in /usr/local/lib/python3.11/dist-packages (from jupyterlab>=4.4.1->-r requirements.txt (line 4)) (24.2)\n",
            "Requirement already satisfied: setuptools>=41.1.0 in /usr/local/lib/python3.11/dist-packages (from jupyterlab>=4.4.1->-r requirements.txt (line 4)) (75.2.0)\n",
            "Requirement already satisfied: tornado>=6.2.0 in /usr/local/lib/python3.11/dist-packages (from jupyterlab>=4.4.1->-r requirements.txt (line 4)) (6.4.2)\n",
            "Requirement already satisfied: traitlets in /usr/local/lib/python3.11/dist-packages (from jupyterlab>=4.4.1->-r requirements.txt (line 4)) (5.7.1)\n",
            "Requirement already satisfied: bleach in /usr/local/lib/python3.11/dist-packages (from kaggle>=1.7.4.2->-r requirements.txt (line 5)) (6.2.0)\n",
            "Requirement already satisfied: certifi>=14.05.14 in /usr/local/lib/python3.11/dist-packages (from kaggle>=1.7.4.2->-r requirements.txt (line 5)) (2025.4.26)\n",
            "Requirement already satisfied: charset-normalizer in /usr/local/lib/python3.11/dist-packages (from kaggle>=1.7.4.2->-r requirements.txt (line 5)) (3.4.1)\n",
            "Requirement already satisfied: idna in /usr/local/lib/python3.11/dist-packages (from kaggle>=1.7.4.2->-r requirements.txt (line 5)) (3.10)\n",
            "Requirement already satisfied: protobuf in /usr/local/lib/python3.11/dist-packages (from kaggle>=1.7.4.2->-r requirements.txt (line 5)) (5.29.4)\n",
            "Requirement already satisfied: python-dateutil>=2.5.3 in /usr/local/lib/python3.11/dist-packages (from kaggle>=1.7.4.2->-r requirements.txt (line 5)) (2.9.0.post0)\n",
            "Requirement already satisfied: python-slugify in /usr/local/lib/python3.11/dist-packages (from kaggle>=1.7.4.2->-r requirements.txt (line 5)) (8.0.4)\n",
            "Requirement already satisfied: requests in /usr/local/lib/python3.11/dist-packages (from kaggle>=1.7.4.2->-r requirements.txt (line 5)) (2.32.3)\n",
            "Requirement already satisfied: six>=1.10 in /usr/local/lib/python3.11/dist-packages (from kaggle>=1.7.4.2->-r requirements.txt (line 5)) (1.17.0)\n",
            "Requirement already satisfied: text-unidecode in /usr/local/lib/python3.11/dist-packages (from kaggle>=1.7.4.2->-r requirements.txt (line 5)) (1.3)\n",
            "Requirement already satisfied: urllib3>=1.15.1 in /usr/local/lib/python3.11/dist-packages (from kaggle>=1.7.4.2->-r requirements.txt (line 5)) (2.4.0)\n",
            "Requirement already satisfied: webencodings in /usr/local/lib/python3.11/dist-packages (from kaggle>=1.7.4.2->-r requirements.txt (line 5)) (0.5.1)\n",
            "Requirement already satisfied: pyyaml in /usr/local/lib/python3.11/dist-packages (from kagglehub>=0.3.12->kagglehub[pandas-datasets]>=0.3.12->-r requirements.txt (line 6)) (6.0.2)\n",
            "Requirement already satisfied: contourpy>=1.0.1 in /usr/local/lib/python3.11/dist-packages (from matplotlib>=3.10.1->-r requirements.txt (line 7)) (1.3.2)\n",
            "Requirement already satisfied: cycler>=0.10 in /usr/local/lib/python3.11/dist-packages (from matplotlib>=3.10.1->-r requirements.txt (line 7)) (0.12.1)\n",
            "Requirement already satisfied: fonttools>=4.22.0 in /usr/local/lib/python3.11/dist-packages (from matplotlib>=3.10.1->-r requirements.txt (line 7)) (4.57.0)\n",
            "Requirement already satisfied: kiwisolver>=1.3.1 in /usr/local/lib/python3.11/dist-packages (from matplotlib>=3.10.1->-r requirements.txt (line 7)) (1.4.8)\n",
            "Requirement already satisfied: numpy>=1.23 in /usr/local/lib/python3.11/dist-packages (from matplotlib>=3.10.1->-r requirements.txt (line 7)) (2.0.2)\n",
            "Requirement already satisfied: pillow>=8 in /usr/local/lib/python3.11/dist-packages (from matplotlib>=3.10.1->-r requirements.txt (line 7)) (11.2.1)\n",
            "Requirement already satisfied: pyparsing>=2.3.1 in /usr/local/lib/python3.11/dist-packages (from matplotlib>=3.10.1->-r requirements.txt (line 7)) (3.2.3)\n",
            "Requirement already satisfied: absl-py>=1.0.0 in /usr/local/lib/python3.11/dist-packages (from tensorflow>=2.19.0->-r requirements.txt (line 8)) (1.4.0)\n",
            "Requirement already satisfied: astunparse>=1.6.0 in /usr/local/lib/python3.11/dist-packages (from tensorflow>=2.19.0->-r requirements.txt (line 8)) (1.6.3)\n",
            "Requirement already satisfied: flatbuffers>=24.3.25 in /usr/local/lib/python3.11/dist-packages (from tensorflow>=2.19.0->-r requirements.txt (line 8)) (25.2.10)\n",
            "Requirement already satisfied: gast!=0.5.0,!=0.5.1,!=0.5.2,>=0.2.1 in /usr/local/lib/python3.11/dist-packages (from tensorflow>=2.19.0->-r requirements.txt (line 8)) (0.6.0)\n",
            "Requirement already satisfied: google-pasta>=0.1.1 in /usr/local/lib/python3.11/dist-packages (from tensorflow>=2.19.0->-r requirements.txt (line 8)) (0.2.0)\n",
            "Requirement already satisfied: libclang>=13.0.0 in /usr/local/lib/python3.11/dist-packages (from tensorflow>=2.19.0->-r requirements.txt (line 8)) (18.1.1)\n",
            "Requirement already satisfied: opt-einsum>=2.3.2 in /usr/local/lib/python3.11/dist-packages (from tensorflow>=2.19.0->-r requirements.txt (line 8)) (3.4.0)\n",
            "Requirement already satisfied: termcolor>=1.1.0 in /usr/local/lib/python3.11/dist-packages (from tensorflow>=2.19.0->-r requirements.txt (line 8)) (3.0.1)\n",
            "Requirement already satisfied: typing-extensions>=3.6.6 in /usr/local/lib/python3.11/dist-packages (from tensorflow>=2.19.0->-r requirements.txt (line 8)) (4.13.2)\n",
            "Requirement already satisfied: grpcio<2.0,>=1.24.3 in /usr/local/lib/python3.11/dist-packages (from tensorflow>=2.19.0->-r requirements.txt (line 8)) (1.71.0)\n",
            "Requirement already satisfied: tensorboard~=2.19.0 in /usr/local/lib/python3.11/dist-packages (from tensorflow>=2.19.0->-r requirements.txt (line 8)) (2.19.0)\n",
            "Requirement already satisfied: keras>=3.5.0 in /usr/local/lib/python3.11/dist-packages (from tensorflow>=2.19.0->-r requirements.txt (line 8)) (3.8.0)\n",
            "Requirement already satisfied: h5py>=3.11.0 in /usr/local/lib/python3.11/dist-packages (from tensorflow>=2.19.0->-r requirements.txt (line 8)) (3.13.0)\n",
            "Requirement already satisfied: ml-dtypes<1.0.0,>=0.5.1 in /usr/local/lib/python3.11/dist-packages (from tensorflow>=2.19.0->-r requirements.txt (line 8)) (0.5.1)\n",
            "Requirement already satisfied: tensorflow-io-gcs-filesystem>=0.23.1 in /usr/local/lib/python3.11/dist-packages (from tensorflow>=2.19.0->-r requirements.txt (line 8)) (0.37.1)\n",
            "Requirement already satisfied: array_record>=0.5.0 in /usr/local/lib/python3.11/dist-packages (from tensorflow-datasets>=4.9.8->-r requirements.txt (line 9)) (0.7.2)\n",
            "Requirement already satisfied: dm-tree in /usr/local/lib/python3.11/dist-packages (from tensorflow-datasets>=4.9.8->-r requirements.txt (line 9)) (0.1.9)\n",
            "Requirement already satisfied: etils>=1.9.1 in /usr/local/lib/python3.11/dist-packages (from etils[edc,enp,epath,epy,etree]>=1.9.1; python_version >= \"3.11\"->tensorflow-datasets>=4.9.8->-r requirements.txt (line 9)) (1.12.2)\n",
            "Requirement already satisfied: immutabledict in /usr/local/lib/python3.11/dist-packages (from tensorflow-datasets>=4.9.8->-r requirements.txt (line 9)) (4.2.1)\n",
            "Requirement already satisfied: promise in /usr/local/lib/python3.11/dist-packages (from tensorflow-datasets>=4.9.8->-r requirements.txt (line 9)) (2.3)\n",
            "Requirement already satisfied: psutil in /usr/local/lib/python3.11/dist-packages (from tensorflow-datasets>=4.9.8->-r requirements.txt (line 9)) (5.9.5)\n",
            "Requirement already satisfied: pyarrow in /usr/local/lib/python3.11/dist-packages (from tensorflow-datasets>=4.9.8->-r requirements.txt (line 9)) (18.1.0)\n",
            "Requirement already satisfied: simple_parsing in /usr/local/lib/python3.11/dist-packages (from tensorflow-datasets>=4.9.8->-r requirements.txt (line 9)) (0.1.7)\n",
            "Requirement already satisfied: tensorflow-metadata in /usr/local/lib/python3.11/dist-packages (from tensorflow-datasets>=4.9.8->-r requirements.txt (line 9)) (1.17.1)\n",
            "Requirement already satisfied: toml in /usr/local/lib/python3.11/dist-packages (from tensorflow-datasets>=4.9.8->-r requirements.txt (line 9)) (0.10.2)\n",
            "Requirement already satisfied: pandas in /usr/local/lib/python3.11/dist-packages (from kagglehub[pandas-datasets]>=0.3.12->-r requirements.txt (line 6)) (2.2.2)\n",
            "Requirement already satisfied: wheel<1.0,>=0.23.0 in /usr/local/lib/python3.11/dist-packages (from astunparse>=1.6.0->tensorflow>=2.19.0->-r requirements.txt (line 8)) (0.45.1)\n",
            "Requirement already satisfied: einops in /usr/local/lib/python3.11/dist-packages (from etils[edc,enp,epath,epy,etree]>=1.9.1; python_version >= \"3.11\"->tensorflow-datasets>=4.9.8->-r requirements.txt (line 9)) (0.8.1)\n",
            "Requirement already satisfied: fsspec in /usr/local/lib/python3.11/dist-packages (from etils[edc,enp,epath,epy,etree]>=1.9.1; python_version >= \"3.11\"->tensorflow-datasets>=4.9.8->-r requirements.txt (line 9)) (2025.3.2)\n",
            "Requirement already satisfied: importlib_resources in /usr/local/lib/python3.11/dist-packages (from etils[edc,enp,epath,epy,etree]>=1.9.1; python_version >= \"3.11\"->tensorflow-datasets>=4.9.8->-r requirements.txt (line 9)) (6.5.2)\n",
            "Requirement already satisfied: zipp in /usr/local/lib/python3.11/dist-packages (from etils[edc,enp,epath,epy,etree]>=1.9.1; python_version >= \"3.11\"->tensorflow-datasets>=4.9.8->-r requirements.txt (line 9)) (3.21.0)\n",
            "Requirement already satisfied: anyio in /usr/local/lib/python3.11/dist-packages (from httpx>=0.25.0->jupyterlab>=4.4.1->-r requirements.txt (line 4)) (4.9.0)\n",
            "Requirement already satisfied: httpcore==1.* in /usr/local/lib/python3.11/dist-packages (from httpx>=0.25.0->jupyterlab>=4.4.1->-r requirements.txt (line 4)) (1.0.9)\n",
            "Requirement already satisfied: h11>=0.16 in /usr/local/lib/python3.11/dist-packages (from httpcore==1.*->httpx>=0.25.0->jupyterlab>=4.4.1->-r requirements.txt (line 4)) (0.16.0)\n",
            "Requirement already satisfied: debugpy>=1.0 in /usr/local/lib/python3.11/dist-packages (from ipykernel>=6.5.0->jupyterlab>=4.4.1->-r requirements.txt (line 4)) (1.8.0)\n",
            "Requirement already satisfied: ipython>=7.23.1 in /usr/local/lib/python3.11/dist-packages (from ipykernel>=6.5.0->jupyterlab>=4.4.1->-r requirements.txt (line 4)) (7.34.0)\n",
            "Requirement already satisfied: jupyter-client>=6.1.12 in /usr/local/lib/python3.11/dist-packages (from ipykernel>=6.5.0->jupyterlab>=4.4.1->-r requirements.txt (line 4)) (8.6.3)\n",
            "Requirement already satisfied: matplotlib-inline>=0.1 in /usr/local/lib/python3.11/dist-packages (from ipykernel>=6.5.0->jupyterlab>=4.4.1->-r requirements.txt (line 4)) (0.1.7)\n",
            "Requirement already satisfied: nest-asyncio in /usr/local/lib/python3.11/dist-packages (from ipykernel>=6.5.0->jupyterlab>=4.4.1->-r requirements.txt (line 4)) (1.6.0)\n",
            "Requirement already satisfied: pyzmq>=17 in /usr/local/lib/python3.11/dist-packages (from ipykernel>=6.5.0->jupyterlab>=4.4.1->-r requirements.txt (line 4)) (24.0.1)\n",
            "Requirement already satisfied: MarkupSafe>=2.0 in /usr/local/lib/python3.11/dist-packages (from jinja2>=3.0.3->jupyterlab>=4.4.1->-r requirements.txt (line 4)) (3.0.2)\n",
            "Requirement already satisfied: argon2-cffi>=21.1 in /usr/local/lib/python3.11/dist-packages (from jupyter-server<3,>=2.4.0->jupyterlab>=4.4.1->-r requirements.txt (line 4)) (23.1.0)\n",
            "Requirement already satisfied: jupyter-events>=0.11.0 in /usr/local/lib/python3.11/dist-packages (from jupyter-server<3,>=2.4.0->jupyterlab>=4.4.1->-r requirements.txt (line 4)) (0.12.0)\n",
            "Requirement already satisfied: jupyter-server-terminals>=0.4.4 in /usr/local/lib/python3.11/dist-packages (from jupyter-server<3,>=2.4.0->jupyterlab>=4.4.1->-r requirements.txt (line 4)) (0.5.3)\n",
            "Requirement already satisfied: nbconvert>=6.4.4 in /usr/local/lib/python3.11/dist-packages (from jupyter-server<3,>=2.4.0->jupyterlab>=4.4.1->-r requirements.txt (line 4)) (7.16.6)\n",
            "Requirement already satisfied: nbformat>=5.3.0 in /usr/local/lib/python3.11/dist-packages (from jupyter-server<3,>=2.4.0->jupyterlab>=4.4.1->-r requirements.txt (line 4)) (5.10.4)\n",
            "Requirement already satisfied: overrides>=5.0 in /usr/local/lib/python3.11/dist-packages (from jupyter-server<3,>=2.4.0->jupyterlab>=4.4.1->-r requirements.txt (line 4)) (7.7.0)\n",
            "Requirement already satisfied: prometheus-client>=0.9 in /usr/local/lib/python3.11/dist-packages (from jupyter-server<3,>=2.4.0->jupyterlab>=4.4.1->-r requirements.txt (line 4)) (0.21.1)\n",
            "Requirement already satisfied: send2trash>=1.8.2 in /usr/local/lib/python3.11/dist-packages (from jupyter-server<3,>=2.4.0->jupyterlab>=4.4.1->-r requirements.txt (line 4)) (1.8.3)\n",
            "Requirement already satisfied: terminado>=0.8.3 in /usr/local/lib/python3.11/dist-packages (from jupyter-server<3,>=2.4.0->jupyterlab>=4.4.1->-r requirements.txt (line 4)) (0.18.1)\n",
            "Requirement already satisfied: websocket-client>=1.7 in /usr/local/lib/python3.11/dist-packages (from jupyter-server<3,>=2.4.0->jupyterlab>=4.4.1->-r requirements.txt (line 4)) (1.8.0)\n",
            "Requirement already satisfied: platformdirs>=2.5 in /usr/local/lib/python3.11/dist-packages (from jupyter-core->jupyterlab>=4.4.1->-r requirements.txt (line 4)) (4.3.7)\n",
            "Requirement already satisfied: babel>=2.10 in /usr/local/lib/python3.11/dist-packages (from jupyterlab-server<3,>=2.27.1->jupyterlab>=4.4.1->-r requirements.txt (line 4)) (2.17.0)\n",
            "Requirement already satisfied: json5>=0.9.0 in /usr/local/lib/python3.11/dist-packages (from jupyterlab-server<3,>=2.27.1->jupyterlab>=4.4.1->-r requirements.txt (line 4)) (0.12.0)\n",
            "Requirement already satisfied: jsonschema>=4.18.0 in /usr/local/lib/python3.11/dist-packages (from jupyterlab-server<3,>=2.27.1->jupyterlab>=4.4.1->-r requirements.txt (line 4)) (4.23.0)\n",
            "Requirement already satisfied: rich in /usr/local/lib/python3.11/dist-packages (from keras>=3.5.0->tensorflow>=2.19.0->-r requirements.txt (line 8)) (13.9.4)\n",
            "Requirement already satisfied: namex in /usr/local/lib/python3.11/dist-packages (from keras>=3.5.0->tensorflow>=2.19.0->-r requirements.txt (line 8)) (0.0.9)\n",
            "Requirement already satisfied: optree in /usr/local/lib/python3.11/dist-packages (from keras>=3.5.0->tensorflow>=2.19.0->-r requirements.txt (line 8)) (0.15.0)\n",
            "Requirement already satisfied: markdown>=2.6.8 in /usr/local/lib/python3.11/dist-packages (from tensorboard~=2.19.0->tensorflow>=2.19.0->-r requirements.txt (line 8)) (3.8)\n",
            "Requirement already satisfied: tensorboard-data-server<0.8.0,>=0.7.0 in /usr/local/lib/python3.11/dist-packages (from tensorboard~=2.19.0->tensorflow>=2.19.0->-r requirements.txt (line 8)) (0.7.2)\n",
            "Requirement already satisfied: werkzeug>=1.0.1 in /usr/local/lib/python3.11/dist-packages (from tensorboard~=2.19.0->tensorflow>=2.19.0->-r requirements.txt (line 8)) (3.1.3)\n",
            "Requirement already satisfied: attrs>=18.2.0 in /usr/local/lib/python3.11/dist-packages (from dm-tree->tensorflow-datasets>=4.9.8->-r requirements.txt (line 9)) (25.3.0)\n",
            "Requirement already satisfied: pytz>=2020.1 in /usr/local/lib/python3.11/dist-packages (from pandas->kagglehub[pandas-datasets]>=0.3.12->-r requirements.txt (line 6)) (2025.2)\n",
            "Requirement already satisfied: tzdata>=2022.7 in /usr/local/lib/python3.11/dist-packages (from pandas->kagglehub[pandas-datasets]>=0.3.12->-r requirements.txt (line 6)) (2025.2)\n",
            "Requirement already satisfied: docstring-parser<1.0,>=0.15 in /usr/local/lib/python3.11/dist-packages (from simple_parsing->tensorflow-datasets>=4.9.8->-r requirements.txt (line 9)) (0.16)\n",
            "Requirement already satisfied: googleapis-common-protos<2,>=1.56.4 in /usr/local/lib/python3.11/dist-packages (from tensorflow-metadata->tensorflow-datasets>=4.9.8->-r requirements.txt (line 9)) (1.70.0)\n",
            "Requirement already satisfied: sniffio>=1.1 in /usr/local/lib/python3.11/dist-packages (from anyio->httpx>=0.25.0->jupyterlab>=4.4.1->-r requirements.txt (line 4)) (1.3.1)\n",
            "Requirement already satisfied: argon2-cffi-bindings in /usr/local/lib/python3.11/dist-packages (from argon2-cffi>=21.1->jupyter-server<3,>=2.4.0->jupyterlab>=4.4.1->-r requirements.txt (line 4)) (21.2.0)\n",
            "Requirement already satisfied: jedi>=0.16 in /usr/local/lib/python3.11/dist-packages (from ipython>=7.23.1->ipykernel>=6.5.0->jupyterlab>=4.4.1->-r requirements.txt (line 4)) (0.19.2)\n",
            "Requirement already satisfied: decorator in /usr/local/lib/python3.11/dist-packages (from ipython>=7.23.1->ipykernel>=6.5.0->jupyterlab>=4.4.1->-r requirements.txt (line 4)) (4.4.2)\n",
            "Requirement already satisfied: pickleshare in /usr/local/lib/python3.11/dist-packages (from ipython>=7.23.1->ipykernel>=6.5.0->jupyterlab>=4.4.1->-r requirements.txt (line 4)) (0.7.5)\n",
            "Requirement already satisfied: prompt-toolkit!=3.0.0,!=3.0.1,<3.1.0,>=2.0.0 in /usr/local/lib/python3.11/dist-packages (from ipython>=7.23.1->ipykernel>=6.5.0->jupyterlab>=4.4.1->-r requirements.txt (line 4)) (3.0.51)\n",
            "Requirement already satisfied: pygments in /usr/local/lib/python3.11/dist-packages (from ipython>=7.23.1->ipykernel>=6.5.0->jupyterlab>=4.4.1->-r requirements.txt (line 4)) (2.19.1)\n",
            "Requirement already satisfied: backcall in /usr/local/lib/python3.11/dist-packages (from ipython>=7.23.1->ipykernel>=6.5.0->jupyterlab>=4.4.1->-r requirements.txt (line 4)) (0.2.0)\n",
            "Requirement already satisfied: pexpect>4.3 in /usr/local/lib/python3.11/dist-packages (from ipython>=7.23.1->ipykernel>=6.5.0->jupyterlab>=4.4.1->-r requirements.txt (line 4)) (4.9.0)\n",
            "Requirement already satisfied: jsonschema-specifications>=2023.03.6 in /usr/local/lib/python3.11/dist-packages (from jsonschema>=4.18.0->jupyterlab-server<3,>=2.27.1->jupyterlab>=4.4.1->-r requirements.txt (line 4)) (2025.4.1)\n",
            "Requirement already satisfied: referencing>=0.28.4 in /usr/local/lib/python3.11/dist-packages (from jsonschema>=4.18.0->jupyterlab-server<3,>=2.27.1->jupyterlab>=4.4.1->-r requirements.txt (line 4)) (0.36.2)\n",
            "Requirement already satisfied: rpds-py>=0.7.1 in /usr/local/lib/python3.11/dist-packages (from jsonschema>=4.18.0->jupyterlab-server<3,>=2.27.1->jupyterlab>=4.4.1->-r requirements.txt (line 4)) (0.24.0)\n",
            "Requirement already satisfied: python-json-logger>=2.0.4 in /usr/local/lib/python3.11/dist-packages (from jupyter-events>=0.11.0->jupyter-server<3,>=2.4.0->jupyterlab>=4.4.1->-r requirements.txt (line 4)) (3.3.0)\n",
            "Requirement already satisfied: rfc3339-validator in /usr/local/lib/python3.11/dist-packages (from jupyter-events>=0.11.0->jupyter-server<3,>=2.4.0->jupyterlab>=4.4.1->-r requirements.txt (line 4)) (0.1.4)\n",
            "Requirement already satisfied: rfc3986-validator>=0.1.1 in /usr/local/lib/python3.11/dist-packages (from jupyter-events>=0.11.0->jupyter-server<3,>=2.4.0->jupyterlab>=4.4.1->-r requirements.txt (line 4)) (0.1.1)\n",
            "Requirement already satisfied: beautifulsoup4 in /usr/local/lib/python3.11/dist-packages (from nbconvert>=6.4.4->jupyter-server<3,>=2.4.0->jupyterlab>=4.4.1->-r requirements.txt (line 4)) (4.13.4)\n",
            "Requirement already satisfied: defusedxml in /usr/local/lib/python3.11/dist-packages (from nbconvert>=6.4.4->jupyter-server<3,>=2.4.0->jupyterlab>=4.4.1->-r requirements.txt (line 4)) (0.7.1)\n",
            "Requirement already satisfied: jupyterlab-pygments in /usr/local/lib/python3.11/dist-packages (from nbconvert>=6.4.4->jupyter-server<3,>=2.4.0->jupyterlab>=4.4.1->-r requirements.txt (line 4)) (0.3.0)\n",
            "Requirement already satisfied: mistune<4,>=2.0.3 in /usr/local/lib/python3.11/dist-packages (from nbconvert>=6.4.4->jupyter-server<3,>=2.4.0->jupyterlab>=4.4.1->-r requirements.txt (line 4)) (3.1.3)\n",
            "Requirement already satisfied: nbclient>=0.5.0 in /usr/local/lib/python3.11/dist-packages (from nbconvert>=6.4.4->jupyter-server<3,>=2.4.0->jupyterlab>=4.4.1->-r requirements.txt (line 4)) (0.10.2)\n",
            "Requirement already satisfied: pandocfilters>=1.4.1 in /usr/local/lib/python3.11/dist-packages (from nbconvert>=6.4.4->jupyter-server<3,>=2.4.0->jupyterlab>=4.4.1->-r requirements.txt (line 4)) (1.5.1)\n",
            "Requirement already satisfied: fastjsonschema>=2.15 in /usr/local/lib/python3.11/dist-packages (from nbformat>=5.3.0->jupyter-server<3,>=2.4.0->jupyterlab>=4.4.1->-r requirements.txt (line 4)) (2.21.1)\n",
            "Requirement already satisfied: ptyprocess in /usr/local/lib/python3.11/dist-packages (from terminado>=0.8.3->jupyter-server<3,>=2.4.0->jupyterlab>=4.4.1->-r requirements.txt (line 4)) (0.7.0)\n",
            "Requirement already satisfied: markdown-it-py>=2.2.0 in /usr/local/lib/python3.11/dist-packages (from rich->keras>=3.5.0->tensorflow>=2.19.0->-r requirements.txt (line 8)) (3.0.0)\n",
            "Requirement already satisfied: tinycss2<1.5,>=1.1.0 in /usr/local/lib/python3.11/dist-packages (from bleach[css]!=5.0.0->nbconvert>=6.4.4->jupyter-server<3,>=2.4.0->jupyterlab>=4.4.1->-r requirements.txt (line 4)) (1.4.0)\n",
            "Requirement already satisfied: parso<0.9.0,>=0.8.4 in /usr/local/lib/python3.11/dist-packages (from jedi>=0.16->ipython>=7.23.1->ipykernel>=6.5.0->jupyterlab>=4.4.1->-r requirements.txt (line 4)) (0.8.4)\n",
            "Requirement already satisfied: fqdn in /usr/local/lib/python3.11/dist-packages (from jsonschema[format-nongpl]>=4.18.0->jupyter-events>=0.11.0->jupyter-server<3,>=2.4.0->jupyterlab>=4.4.1->-r requirements.txt (line 4)) (1.5.1)\n",
            "Requirement already satisfied: isoduration in /usr/local/lib/python3.11/dist-packages (from jsonschema[format-nongpl]>=4.18.0->jupyter-events>=0.11.0->jupyter-server<3,>=2.4.0->jupyterlab>=4.4.1->-r requirements.txt (line 4)) (20.11.0)\n",
            "Requirement already satisfied: jsonpointer>1.13 in /usr/local/lib/python3.11/dist-packages (from jsonschema[format-nongpl]>=4.18.0->jupyter-events>=0.11.0->jupyter-server<3,>=2.4.0->jupyterlab>=4.4.1->-r requirements.txt (line 4)) (3.0.0)\n",
            "Requirement already satisfied: uri-template in /usr/local/lib/python3.11/dist-packages (from jsonschema[format-nongpl]>=4.18.0->jupyter-events>=0.11.0->jupyter-server<3,>=2.4.0->jupyterlab>=4.4.1->-r requirements.txt (line 4)) (1.3.0)\n",
            "Requirement already satisfied: webcolors>=24.6.0 in /usr/local/lib/python3.11/dist-packages (from jsonschema[format-nongpl]>=4.18.0->jupyter-events>=0.11.0->jupyter-server<3,>=2.4.0->jupyterlab>=4.4.1->-r requirements.txt (line 4)) (24.11.1)\n",
            "Requirement already satisfied: mdurl~=0.1 in /usr/local/lib/python3.11/dist-packages (from markdown-it-py>=2.2.0->rich->keras>=3.5.0->tensorflow>=2.19.0->-r requirements.txt (line 8)) (0.1.2)\n",
            "Requirement already satisfied: wcwidth in /usr/local/lib/python3.11/dist-packages (from prompt-toolkit!=3.0.0,!=3.0.1,<3.1.0,>=2.0.0->ipython>=7.23.1->ipykernel>=6.5.0->jupyterlab>=4.4.1->-r requirements.txt (line 4)) (0.2.13)\n",
            "Requirement already satisfied: cffi>=1.0.1 in /usr/local/lib/python3.11/dist-packages (from argon2-cffi-bindings->argon2-cffi>=21.1->jupyter-server<3,>=2.4.0->jupyterlab>=4.4.1->-r requirements.txt (line 4)) (1.17.1)\n",
            "Requirement already satisfied: soupsieve>1.2 in /usr/local/lib/python3.11/dist-packages (from beautifulsoup4->nbconvert>=6.4.4->jupyter-server<3,>=2.4.0->jupyterlab>=4.4.1->-r requirements.txt (line 4)) (2.7)\n",
            "Requirement already satisfied: pycparser in /usr/local/lib/python3.11/dist-packages (from cffi>=1.0.1->argon2-cffi-bindings->argon2-cffi>=21.1->jupyter-server<3,>=2.4.0->jupyterlab>=4.4.1->-r requirements.txt (line 4)) (2.22)\n",
            "Requirement already satisfied: arrow>=0.15.0 in /usr/local/lib/python3.11/dist-packages (from isoduration->jsonschema[format-nongpl]>=4.18.0->jupyter-events>=0.11.0->jupyter-server<3,>=2.4.0->jupyterlab>=4.4.1->-r requirements.txt (line 4)) (1.3.0)\n",
            "Requirement already satisfied: types-python-dateutil>=2.8.10 in /usr/local/lib/python3.11/dist-packages (from arrow>=0.15.0->isoduration->jsonschema[format-nongpl]>=4.18.0->jupyter-events>=0.11.0->jupyter-server<3,>=2.4.0->jupyterlab>=4.4.1->-r requirements.txt (line 4)) (2.9.0.20241206)\n"
          ]
        }
      ]
    },
    {
      "cell_type": "code",
      "execution_count": 4,
      "id": "5587a051-de52-4f42-8cd8-50ca4b93eff5",
      "metadata": {
        "id": "5587a051-de52-4f42-8cd8-50ca4b93eff5"
      },
      "outputs": [],
      "source": [
        "import logging\n",
        "import time\n",
        "import pathlib\n",
        "import os\n",
        "import re\n",
        "\n",
        "import numpy as np\n",
        "import matplotlib.pyplot as plt\n",
        "\n",
        "import tensorflow as tf\n",
        "tf.get_logger().setLevel('ERROR')\n",
        "import tensorflow_text as tf_text"
      ]
    },
    {
      "cell_type": "code",
      "execution_count": 5,
      "id": "4dd46eff-1475-4700-b5e5-431248a67443",
      "metadata": {
        "colab": {
          "base_uri": "https://localhost:8080/"
        },
        "id": "4dd46eff-1475-4700-b5e5-431248a67443",
        "outputId": "6503c85f-bf53-4b33-a40c-0904ce74f7b9"
      },
      "outputs": [
        {
          "output_type": "stream",
          "name": "stdout",
          "text": [
            "1 Physical GPUs, 1 Logical GPUs\n"
          ]
        }
      ],
      "source": [
        "gpus = tf.config.list_physical_devices('GPU')\n",
        "if gpus:\n",
        "  try:\n",
        "    # Currently, memory growth needs to be the same across GPUs\n",
        "    for gpu in gpus:\n",
        "      tf.config.experimental.set_memory_growth(gpu, True)\n",
        "    logical_gpus = tf.config.list_logical_devices('GPU')\n",
        "    print(len(gpus), \"Physical GPUs,\", len(logical_gpus), \"Logical GPUs\")\n",
        "  except RuntimeError as e:\n",
        "    # Memory growth must be set before GPUs have been initialized\n",
        "    print(e)\n",
        "else:\n",
        "    print(\"Using CPU\")"
      ]
    },
    {
      "cell_type": "markdown",
      "id": "23f525c5-6291-42f6-a370-d6b5511067a1",
      "metadata": {
        "id": "23f525c5-6291-42f6-a370-d6b5511067a1"
      },
      "source": [
        "# Handle data"
      ]
    },
    {
      "cell_type": "markdown",
      "id": "500af6d5-c941-471d-bd75-621b5203cde4",
      "metadata": {
        "id": "500af6d5-c941-471d-bd75-621b5203cde4"
      },
      "source": [
        "## Get Vietnamese text and clean up raw data\n",
        "\n",
        "Please run [Vietnamese_dataset](./Vietnamese_dataset.ipynb) notebook to generate `vn-news-unicode.txt` file first."
      ]
    },
    {
      "cell_type": "markdown",
      "id": "2b58f6b7-d646-4095-9ffb-64fcda1ee99a",
      "metadata": {
        "id": "2b58f6b7-d646-4095-9ffb-64fcda1ee99a"
      },
      "source": [
        "## Convert unicode data to ascii"
      ]
    },
    {
      "cell_type": "code",
      "execution_count": 6,
      "id": "1b708032-e942-42bb-9130-af637d141bf3",
      "metadata": {
        "id": "1b708032-e942-42bb-9130-af637d141bf3"
      },
      "outputs": [],
      "source": [
        "#DATASET_NAME = \"truyen-kieu\"\n",
        "DATASET_NAME = \"vn-news\"\n",
        "pwd = pathlib.Path.cwd()\n",
        "dateset_path = pwd / f\"{DATASET_NAME}-ds\"\n",
        "uni_file_path = pwd/f\"{DATASET_NAME}-unicode.txt\"\n",
        "asc_file_path = pwd/ f\"{DATASET_NAME}-ascii.txt\""
      ]
    },
    {
      "cell_type": "markdown",
      "id": "719994f8-9231-4599-b0aa-083ec7087655",
      "metadata": {
        "id": "719994f8-9231-4599-b0aa-083ec7087655"
      },
      "source": [
        "Reuse `utoa` to convert to ascii text."
      ]
    },
    {
      "cell_type": "code",
      "execution_count": 7,
      "id": "c3bc3691-08a9-4f82-bb3a-d061879a4f30",
      "metadata": {
        "colab": {
          "base_uri": "https://localhost:8080/"
        },
        "id": "c3bc3691-08a9-4f82-bb3a-d061879a4f30",
        "outputId": "84d981b4-efba-41e4-fff4-2dca480ce630"
      },
      "outputs": [
        {
          "output_type": "stream",
          "name": "stdout",
          "text": [
            "Generating /content/vn-news-ascii.txt\n"
          ]
        }
      ],
      "source": [
        "%%bash -s \"$uni_file_path\" \"$asc_file_path\"\n",
        "chmod +x ./utoa\n",
        "if [ ! -f $2 ]; then\n",
        "    echo \"Generating $2\"\n",
        "    ./utoa \"$1\" > \"$2\"\n",
        "fi"
      ]
    },
    {
      "cell_type": "markdown",
      "id": "85d44d07-80ca-46ce-8efe-86a69d227888",
      "metadata": {
        "id": "85d44d07-80ca-46ce-8efe-86a69d227888"
      },
      "source": [
        "## Create dataset from converted text"
      ]
    },
    {
      "cell_type": "code",
      "execution_count": 8,
      "id": "0ef73f60-ebb8-43ca-ae9a-e3a7157f5a6f",
      "metadata": {
        "id": "0ef73f60-ebb8-43ca-ae9a-e3a7157f5a6f"
      },
      "outputs": [],
      "source": [
        "def source_file_to_dataset():\n",
        "    uni_file_ds = tf.data.TextLineDataset(uni_file_path)\n",
        "    asc_file_ds = tf.data.TextLineDataset(asc_file_path)\n",
        "    atou_ds = tf.data.Dataset.zip(asc_file_ds, uni_file_ds)\n",
        "    tf.data.Dataset.save(atou_ds, str(dateset_path))\n",
        "    return atou_ds\n",
        "\n",
        "def load_dataset():\n",
        "    if os.path.exists(dateset_path):\n",
        "        return tf.data.Dataset.load(str(dateset_path))\n",
        "    return source_file_to_dataset()"
      ]
    },
    {
      "cell_type": "code",
      "execution_count": 9,
      "id": "8d9e730d-9f14-4040-9acb-0e14c751c05e",
      "metadata": {
        "id": "8d9e730d-9f14-4040-9acb-0e14c751c05e"
      },
      "outputs": [],
      "source": [
        "ds = load_dataset()"
      ]
    },
    {
      "cell_type": "code",
      "execution_count": 10,
      "id": "0f312dfb-bfa8-4e29-a0ed-b57008338a31",
      "metadata": {
        "colab": {
          "base_uri": "https://localhost:8080/"
        },
        "id": "0f312dfb-bfa8-4e29-a0ed-b57008338a31",
        "outputId": "87a592e8-7b44-4880-c25f-2d32fff8e597"
      },
      "outputs": [
        {
          "output_type": "stream",
          "name": "stdout",
          "text": [
            "Input: Sau do, doi tuong mang so vang vua cuop duoc vut ra via he roi di bo den khu vuc cau Gia Hoi, cach khu vuc gay an khoang 300m\n",
            "Label:  Sau đó, đối tượng mang số vàng vừa cướp được vứt ra vỉa hè rồi đi bộ đến khu vực cầu Gia Hội, cách khu vực gây án khoảng 300m\n",
            "----------\n",
            "Input: Hang tram tieu thuong trong cho Dong Ba va nguoi dan gan cau Gia Hoi duoc yeu cau di chuyen khoi hien truong, dong cua nha de phong dan lac\n",
            "Label:  Hàng trăm tiểu thương trong chợ Đông Ba và người dân gần cầu Gia Hội được yêu cầu di chuyển khỏi hiện trường, đóng cửa nhà đề phòng đạn lạc\n",
            "----------\n",
            "Input: Tuy nhien, thay vang bi nem ra duong, nhieu nguoi dua nhau nhat, tao canh nhon nhao truoc cong cho\n",
            "Label:  Tuy nhiên, thấy vàng bị ném ra đường, nhiều người đua nhau nhặt, tạo cảnh nhốn nháo trước cổng chợ\n",
            "----------\n",
            "Input: Doi tuong lai yeu cau duoc noi chuyen voi Dai ta Dang Ngoc Son, Pho Giam doc Cong an tinh\n",
            "Label:  Đối tượng lại yêu cầu được nói chuyện với Đại tá Đặng Ngọc Sơn, Phó Giám đốc Công an tỉnh\n",
            "----------\n"
          ]
        }
      ],
      "source": [
        "for asc, uni  in ds.take(4): # Take the first 3 pairs\n",
        "    print(f\"Input: {asc.numpy().decode('utf-8')}\")\n",
        "\n",
        "    print(f\"Label:  {uni.numpy().decode('utf-8')}\")\n",
        "\n",
        "    print(\"-\" * 10)"
      ]
    },
    {
      "cell_type": "markdown",
      "id": "31460663-7e21-413f-b6a3-c48347564a24",
      "metadata": {
        "id": "31460663-7e21-413f-b6a3-c48347564a24"
      },
      "source": [
        "## Build vocabulary and tokenizer\n",
        "\n",
        "Reference [Subword tokenizers](https://www.tensorflow.org/text/guide/subwords_tokenizer) example."
      ]
    },
    {
      "cell_type": "code",
      "source": [
        "ds.cardinality().numpy()"
      ],
      "metadata": {
        "colab": {
          "base_uri": "https://localhost:8080/"
        },
        "id": "GFY1rCaEtaY3",
        "outputId": "e1bf5dcf-3d2c-4282-c3e7-a9b8b801cf9a"
      },
      "id": "GFY1rCaEtaY3",
      "execution_count": 11,
      "outputs": [
        {
          "output_type": "execute_result",
          "data": {
            "text/plain": [
              "np.int64(-2)"
            ]
          },
          "metadata": {},
          "execution_count": 11
        }
      ]
    },
    {
      "cell_type": "code",
      "execution_count": 12,
      "id": "a2bc80cd-500f-41ae-b389-46808f66903a",
      "metadata": {
        "id": "a2bc80cd-500f-41ae-b389-46808f66903a"
      },
      "outputs": [],
      "source": [
        "from tensorflow_text.tools.wordpiece_vocab import bert_vocab_from_dataset as bert_vocab"
      ]
    },
    {
      "cell_type": "code",
      "execution_count": 13,
      "id": "7986bcc2-4275-4da1-a29c-f0f9a49ddf1a",
      "metadata": {
        "id": "7986bcc2-4275-4da1-a29c-f0f9a49ddf1a"
      },
      "outputs": [],
      "source": [
        "atou_ds = ds"
      ]
    },
    {
      "cell_type": "code",
      "execution_count": 14,
      "id": "9263eb4a-8285-434c-92cd-eb76a2487869",
      "metadata": {
        "id": "9263eb4a-8285-434c-92cd-eb76a2487869"
      },
      "outputs": [],
      "source": [
        "asc_ds = ds.map(lambda asc, _: asc)\n",
        "uni_ds = ds.map(lambda _, uni: uni)"
      ]
    },
    {
      "cell_type": "code",
      "execution_count": 15,
      "id": "cc3ac423-d1f4-48f3-8925-a712a530d3e7",
      "metadata": {
        "id": "cc3ac423-d1f4-48f3-8925-a712a530d3e7"
      },
      "outputs": [],
      "source": [
        "bert_tokenizer_params=dict(\n",
        "    lower_case=False,\n",
        "    normalization_form='NFC',\n",
        ")\n",
        "reserved_tokens=[\"[PAD]\", \"[UNK]\", \"[START]\", \"[END]\"]\n",
        "\n",
        "bert_vocab_args = dict(\n",
        "    # The target vocabulary size\n",
        "    vocab_size = 8000,\n",
        "    # Reserved tokens that must be included in the vocabulary\n",
        "    reserved_tokens=reserved_tokens,\n",
        "    # Arguments for `text.BertTokenizer`\n",
        "    bert_tokenizer_params=bert_tokenizer_params,\n",
        "    # Arguments for `wordpiece_vocab.wordpiece_tokenizer_learner_lib.learn`\n",
        "    learn_params={},\n",
        ")"
      ]
    },
    {
      "cell_type": "code",
      "execution_count": 16,
      "id": "88f788d9-0117-4bad-b726-d6d1ee1fc41d",
      "metadata": {
        "id": "88f788d9-0117-4bad-b726-d6d1ee1fc41d"
      },
      "outputs": [],
      "source": [
        "def build_vocab(dataset):\n",
        "    new_vocab = bert_vocab.bert_vocab_from_dataset(\n",
        "        dataset.batch(1000).prefetch(2),\n",
        "        **bert_vocab_args\n",
        "    )\n",
        "    print(new_vocab[:10])\n",
        "    print(new_vocab[100:110])\n",
        "    print(new_vocab[1000:1010])\n",
        "    print(new_vocab[-10:])\n",
        "    return new_vocab\n",
        "\n",
        "def write_vocab_file(filepath, vocab):\n",
        "  with open(filepath, 'w') as f:\n",
        "    for token in vocab:\n",
        "      print(token, file=f)"
      ]
    },
    {
      "cell_type": "code",
      "execution_count": 17,
      "id": "41c40831-1e53-440f-81fb-33c0ab0fd1f5",
      "metadata": {
        "colab": {
          "base_uri": "https://localhost:8080/"
        },
        "id": "41c40831-1e53-440f-81fb-33c0ab0fd1f5",
        "outputId": "a6288f38-ac08-4065-e1a0-62eac26d1e77"
      },
      "outputs": [
        {
          "output_type": "stream",
          "name": "stdout",
          "text": [
            "['[PAD]', '[UNK]', '[START]', '[END]', '!', ',', '0', '1', '2', '3']\n",
            "['ý', 'Ă', 'ă', 'Đ', 'đ', 'ĩ', 'ũ', 'Ơ', 'ơ', 'Ư']\n",
            "['chắc', 'màn', '##t', 'Sơn', 'lớp', 'CLB', 'sẵn', 'nhẹ', 'Long', 'lái']\n",
            "['##ủ', '##Ứ', '##Ừ', '##Ử', '##ử', '##ữ', '##Ự', '##Ỷ', '##ỷ', '##ỹ']\n"
          ]
        }
      ],
      "source": [
        "uni_vocab = build_vocab(uni_ds)"
      ]
    },
    {
      "cell_type": "code",
      "execution_count": 18,
      "id": "66537ef1-b940-4e75-8f58-339a05820bb8",
      "metadata": {
        "colab": {
          "base_uri": "https://localhost:8080/"
        },
        "id": "66537ef1-b940-4e75-8f58-339a05820bb8",
        "outputId": "c4513c9c-8155-4aa3-c37c-df1b35118d6e"
      },
      "outputs": [
        {
          "output_type": "stream",
          "name": "stdout",
          "text": [
            "['[PAD]', '[UNK]', '[START]', '[END]', '!', ',', '0', '1', '2', '3']\n",
            "['so', 've', 'quan', 'thu', 'nam', 'chi', 'den', 'con', 'qua', 'nhieu']\n",
            "['ruot', 'kin', 'mung', 'Hanh', 'doa', 'thep', 'Trinh', 'chot', 'lot', 'om']\n",
            "['sneaker', 'tiktoker', 'topping', 'trendy', 'truan', 'type', 'xiem', '##!', '##,', '##_']\n"
          ]
        }
      ],
      "source": [
        "asc_vocab = build_vocab(asc_ds)"
      ]
    },
    {
      "cell_type": "markdown",
      "id": "dc4b910f-1b6a-41a6-9d89-adc42e871ed1",
      "metadata": {
        "id": "dc4b910f-1b6a-41a6-9d89-adc42e871ed1"
      },
      "source": [
        "Save vocabulary to files"
      ]
    },
    {
      "cell_type": "code",
      "execution_count": 19,
      "id": "b30ede0e-f5a6-4b34-9de1-3141a1d2c560",
      "metadata": {
        "id": "b30ede0e-f5a6-4b34-9de1-3141a1d2c560"
      },
      "outputs": [],
      "source": [
        "asc_vocab_file = f'{DATASET_NAME}-asc-vocab.txt'\n",
        "uni_vocab_file = f'{DATASET_NAME}-uni-vocab.txt'\n",
        "write_vocab_file(asc_vocab_file, asc_vocab)\n",
        "write_vocab_file(uni_vocab_file, uni_vocab)"
      ]
    },
    {
      "cell_type": "markdown",
      "id": "a65cb622-0137-4023-a79b-8c3496303b23",
      "metadata": {
        "id": "a65cb622-0137-4023-a79b-8c3496303b23"
      },
      "source": [
        "Create custom Tokenizer for asc-uni."
      ]
    },
    {
      "cell_type": "code",
      "execution_count": 20,
      "id": "b1b554cb-2ca2-458b-80a1-446e0f0d86fd",
      "metadata": {
        "id": "b1b554cb-2ca2-458b-80a1-446e0f0d86fd"
      },
      "outputs": [],
      "source": [
        "START = tf.argmax(tf.constant(reserved_tokens) == \"[START]\")\n",
        "END = tf.argmax(tf.constant(reserved_tokens) == \"[END]\")\n",
        "\n",
        "def add_start_end(ragged):\n",
        "  count = ragged.bounding_shape()[0]\n",
        "  starts = tf.fill([count,1], START)\n",
        "  ends = tf.fill([count,1], END)\n",
        "  return tf.concat([starts, ragged, ends], axis=1)\n",
        "\n",
        "def cleanup_text(reserved_tokens, token_txt):\n",
        "  # Drop the reserved tokens, except for \"[UNK]\".\n",
        "  bad_tokens = [re.escape(tok) for tok in reserved_tokens if tok != \"[UNK]\"]\n",
        "  bad_token_re = \"|\".join(bad_tokens)\n",
        "\n",
        "  bad_cells = tf.strings.regex_full_match(token_txt, bad_token_re)\n",
        "  result = tf.ragged.boolean_mask(token_txt, ~bad_cells)\n",
        "\n",
        "  # Join them into strings.\n",
        "  result = tf.strings.reduce_join(result, separator=' ', axis=-1)\n",
        "\n",
        "  return result\n",
        "\n",
        "class CustomTokenizer(tf.Module):\n",
        "  def __init__(self, reserved_tokens, vocab_path):\n",
        "    self.tokenizer = tf_text.BertTokenizer(vocab_path, **bert_tokenizer_params)\n",
        "    self._reserved_tokens = reserved_tokens\n",
        "    self._vocab_path = tf.saved_model.Asset(vocab_path)\n",
        "\n",
        "    vocab = pathlib.Path(vocab_path).read_text().splitlines()\n",
        "    self.vocab = tf.Variable(vocab)\n",
        "\n",
        "    ## Create the signatures for export:\n",
        "\n",
        "    # Include a tokenize signature for a batch of strings.\n",
        "    self.tokenize.get_concrete_function(\n",
        "        tf.TensorSpec(shape=[None], dtype=tf.string))\n",
        "\n",
        "    # Include `detokenize` and `lookup` signatures for:\n",
        "    #   * `Tensors` with shapes [tokens] and [batch, tokens]\n",
        "    #   * `RaggedTensors` with shape [batch, tokens]\n",
        "    self.detokenize.get_concrete_function(\n",
        "        tf.TensorSpec(shape=[None, None], dtype=tf.int64))\n",
        "    self.detokenize.get_concrete_function(\n",
        "          tf.RaggedTensorSpec(shape=[None, None], dtype=tf.int64))\n",
        "\n",
        "    self.lookup.get_concrete_function(\n",
        "        tf.TensorSpec(shape=[None, None], dtype=tf.int64))\n",
        "    self.lookup.get_concrete_function(\n",
        "          tf.RaggedTensorSpec(shape=[None, None], dtype=tf.int64))\n",
        "\n",
        "    # These `get_*` methods take no arguments\n",
        "    self.vocab_size.get_concrete_function()\n",
        "    self.get_vocab_path.get_concrete_function()\n",
        "    self.get_reserved_tokens.get_concrete_function()\n",
        "\n",
        "  @tf.function\n",
        "  def tokenize(self, strings):\n",
        "    enc = self.tokenizer.tokenize(strings)\n",
        "    # Merge the `word` and `word-piece` axes.\n",
        "    enc = enc.merge_dims(-2,-1)\n",
        "    enc = add_start_end(enc)\n",
        "    return enc\n",
        "\n",
        "  @tf.function\n",
        "  def detokenize(self, tokenized):\n",
        "    words = self.tokenizer.detokenize(tokenized)\n",
        "    return cleanup_text(self._reserved_tokens, words)\n",
        "\n",
        "  @tf.function\n",
        "  def lookup(self, token_ids):\n",
        "    return tf.gather(self.vocab, token_ids)\n",
        "\n",
        "  @tf.function\n",
        "  def vocab_size(self):\n",
        "    return tf.shape(self.vocab)[0]\n",
        "\n",
        "  @tf.function\n",
        "  def get_vocab_path(self):\n",
        "    return self._vocab_path\n",
        "\n",
        "  @tf.function\n",
        "  def get_reserved_tokens(self):\n",
        "    return tf.constant(self._reserved_tokens)\n"
      ]
    },
    {
      "cell_type": "code",
      "execution_count": 21,
      "id": "43d50f2a-eda9-4be4-8be3-aa5b27fcdd60",
      "metadata": {
        "id": "43d50f2a-eda9-4be4-8be3-aa5b27fcdd60"
      },
      "outputs": [],
      "source": [
        "model_name = f'{DATASET_NAME}_asc_uni_converter'.replace('-', '_')\n",
        "\n",
        "tokenizers = tf.Module(model_name)\n",
        "tokenizers.asc = CustomTokenizer(reserved_tokens, asc_vocab_file)\n",
        "tokenizers.uni = CustomTokenizer(reserved_tokens, uni_vocab_file)"
      ]
    },
    {
      "cell_type": "code",
      "execution_count": 22,
      "id": "f43da482-9068-43b4-83b4-9453715ea83b",
      "metadata": {
        "colab": {
          "base_uri": "https://localhost:8080/"
        },
        "id": "f43da482-9068-43b4-83b4-9453715ea83b",
        "outputId": "f17ff36b-37f9-49be-bbf3-a74a1d2e6624"
      },
      "outputs": [
        {
          "output_type": "execute_result",
          "data": {
            "text/plain": [
              "array([[   2,  730,  698,  196,  592,  344,  878,    5, 1184,  190, 4726,\n",
              "         897,  324,  190, 2239,  582,    4,    3]])"
            ]
          },
          "metadata": {},
          "execution_count": 22
        }
      ],
      "source": [
        "tokens = tokenizers.uni.tokenize(['Thanh minh trong tiết tháng ba, lễ là tảo mộ hội là đạp thanh!'])\n",
        "tokens.numpy()"
      ]
    },
    {
      "cell_type": "code",
      "execution_count": 23,
      "id": "0a4c7ae1-5c6b-4016-9f6c-98758d1f31b6",
      "metadata": {
        "colab": {
          "base_uri": "https://localhost:8080/"
        },
        "id": "0a4c7ae1-5c6b-4016-9f6c-98758d1f31b6",
        "outputId": "76603dd3-11c0-45fe-f175-1e54d1f31ef7"
      },
      "outputs": [
        {
          "output_type": "stream",
          "name": "stdout",
          "text": [
            "Thanh minh trong tiết tháng ba , lễ là tảo mộ hội là đạp thanh !\n"
          ]
        }
      ],
      "source": [
        "round_trip = tokenizers.uni.detokenize(tokens)\n",
        "print(round_trip.numpy()[0].decode('utf-8'))"
      ]
    },
    {
      "cell_type": "markdown",
      "id": "a87d6dc4-f81a-4b47-8ab3-0ee7cee5df6c",
      "metadata": {
        "id": "a87d6dc4-f81a-4b47-8ab3-0ee7cee5df6c"
      },
      "source": [
        "## Build the tokenizer"
      ]
    },
    {
      "cell_type": "code",
      "execution_count": 24,
      "id": "64df86b9-da06-4eb6-b200-79786fc6b3e6",
      "metadata": {
        "id": "64df86b9-da06-4eb6-b200-79786fc6b3e6"
      },
      "outputs": [],
      "source": [
        "num_lines = int(ds.cardinality().numpy())\n",
        "train_split_fraction = 0.9 # Use 80% for training\n",
        "test_split_fraction = 1.0 - train_split_fraction # Use 20% for testing"
      ]
    },
    {
      "cell_type": "code",
      "execution_count": 25,
      "id": "3ec66485-da95-47a8-a56c-b0c81544a947",
      "metadata": {
        "colab": {
          "base_uri": "https://localhost:8080/",
          "height": 69
        },
        "id": "3ec66485-da95-47a8-a56c-b0c81544a947",
        "outputId": "648da152-fe76-4bd0-f32a-a5561ef4004e"
      },
      "outputs": [
        {
          "output_type": "display_data",
          "data": {
            "text/plain": [
              "-2"
            ]
          },
          "metadata": {}
        },
        {
          "output_type": "display_data",
          "data": {
            "text/plain": [
              "-1"
            ]
          },
          "metadata": {}
        },
        {
          "output_type": "display_data",
          "data": {
            "text/plain": [
              "-1"
            ]
          },
          "metadata": {}
        }
      ],
      "source": [
        "# Calculate the number of samples for training\n",
        "train_size = int(train_split_fraction * num_lines)\n",
        "# The remaining samples will be for testing\n",
        "test_size = num_lines - train_size\n",
        "display(num_lines, train_size, test_size)"
      ]
    },
    {
      "cell_type": "code",
      "execution_count": 26,
      "id": "f740d41d-923f-49bb-a10d-5e26b5d96bf2",
      "metadata": {
        "colab": {
          "base_uri": "https://localhost:8080/"
        },
        "id": "f740d41d-923f-49bb-a10d-5e26b5d96bf2",
        "outputId": "25b78125-bd9b-46f2-ab1a-ea74c6637d08"
      },
      "outputs": [
        {
          "output_type": "stream",
          "name": "stdout",
          "text": [
            "........................................................................................................................................................................................................................................"
          ]
        }
      ],
      "source": [
        "lengths = []\n",
        "\n",
        "for asc, uni in atou_ds.batch(1024):\n",
        "    asc_tokens = tokenizers.asc.tokenize(asc)\n",
        "    lengths.append(asc_tokens.row_lengths())\n",
        "\n",
        "    uni_tokens = tokenizers.uni.tokenize(uni)\n",
        "    lengths.append(uni_tokens.row_lengths())\n",
        "    print('.', end='', flush=True)"
      ]
    },
    {
      "cell_type": "code",
      "execution_count": 27,
      "id": "919a4ddc-45da-4837-861d-35d3a32d0674",
      "metadata": {
        "colab": {
          "base_uri": "https://localhost:8080/",
          "height": 452
        },
        "id": "919a4ddc-45da-4837-861d-35d3a32d0674",
        "outputId": "8a43fde9-02a4-4af0-ca5f-08c2b11fd34c"
      },
      "outputs": [
        {
          "output_type": "display_data",
          "data": {
            "text/plain": [
              "<Figure size 640x480 with 1 Axes>"
            ],
            "image/png": "[encoded data removed]"
          },
          "metadata": {}
        }
      ],
      "source": [
        "all_lengths = np.concatenate(lengths)\n",
        "\n",
        "plt.hist(all_lengths, np.linspace(0, 500, 101))\n",
        "plt.ylim(plt.ylim())\n",
        "max_length = max(all_lengths)\n",
        "plt.plot([max_length, max_length], plt.ylim())\n",
        "plt.title(f'Maximum tokens per example: {max_length}');"
      ]
    },
    {
      "cell_type": "code",
      "execution_count": 28,
      "id": "4209e30e-591e-4547-b731-8fb88ab739aa",
      "metadata": {
        "colab": {
          "base_uri": "https://localhost:8080/"
        },
        "id": "4209e30e-591e-4547-b731-8fb88ab739aa",
        "outputId": "151e4eda-b729-4e64-f674-885956ad5bbb"
      },
      "outputs": [
        {
          "output_type": "stream",
          "name": "stdout",
          "text": [
            "53\n"
          ]
        }
      ],
      "source": [
        "MAX_TOKENS=int(np.percentile(all_lengths, 95))\n",
        "print(MAX_TOKENS)\n",
        "def prepare_batch(asc, uni):\n",
        "    asc = tokenizers.asc.tokenize(asc)      # Output is ragged.\n",
        "    asc = asc[:, :MAX_TOKENS]    # Trim to MAX_TOKENS.\n",
        "    asc = asc.to_tensor()  # Convert to 0-padded dense Tensor\n",
        "\n",
        "    uni = tokenizers.uni.tokenize(uni)\n",
        "    uni = uni[:, :(MAX_TOKENS+1)]\n",
        "    uni_inputs = uni[:, :-1].to_tensor()  # Drop the [END] tokens\n",
        "    uni_labels = uni[:, 1:].to_tensor()   # Drop the [START] tokens\n",
        "\n",
        "    return (asc, uni_inputs), uni_labels"
      ]
    },
    {
      "cell_type": "code",
      "execution_count": 29,
      "id": "ee9a0749-b11f-4274-962c-b1007031d709",
      "metadata": {
        "id": "ee9a0749-b11f-4274-962c-b1007031d709"
      },
      "outputs": [],
      "source": [
        "BATCH_SIZE = 200\n",
        "BUFFER_SIZE = num_lines\n",
        "def make_batches(ds):\n",
        "  return (\n",
        "      ds\n",
        "      .shuffle(BUFFER_SIZE, seed=42)\n",
        "      .batch(BATCH_SIZE)\n",
        "      .map(prepare_batch, tf.data.AUTOTUNE)\n",
        "      .prefetch(buffer_size=tf.data.AUTOTUNE))"
      ]
    },
    {
      "cell_type": "code",
      "execution_count": 30,
      "id": "ffc7e79f-8305-4208-9649-fe24c0086e71",
      "metadata": {
        "colab": {
          "base_uri": "https://localhost:8080/"
        },
        "id": "ffc7e79f-8305-4208-9649-fe24c0086e71",
        "outputId": "b8161b35-600b-4861-d919-b448430c9a18"
      },
      "outputs": [
        {
          "output_type": "stream",
          "name": "stdout",
          "text": [
            "\n",
            "Sample from Training Set:\n",
            "  Input: Thu Steve Jobs ap dung vao khi thuyet trinh la thien | Label: Thứ Steve Jobs áp dụng vào khi thuyết trình là thiền\n",
            "  Input: Sau do anh duoc chan doan la gay xuong don, phai ngoi xe lan va deo mat na duong khi tren duong den benh vien dieu tri | Label: Sau đó anh được chẩn đoán là gãy xương đòn, phải ngồi xe lăn và đeo mặt nạ dưỡng khí trên đường đến bệnh viện điều trị\n",
            "\n",
            "Sample from Test Set:\n"
          ]
        }
      ],
      "source": [
        "shuffled_ds = atou_ds.shuffle(buffer_size=num_lines, seed=42)\n",
        "train_ds = shuffled_ds.take(train_size) #\n",
        "test_ds = shuffled_ds.skip(train_size)\n",
        "print(\"\\nSample from Training Set:\")\n",
        "for asc , uni  in train_ds.take(2):\n",
        "    print(f\"  Input: {asc.numpy().decode('utf-8')} | Label: {uni.numpy().decode('utf-8')}\")\n",
        "\n",
        "print(\"\\nSample from Test Set:\")\n",
        "for asc, uni in test_ds.take(2):\n",
        "    print(f\"  Input: {asc.numpy().decode('utf-8')} | Label: {uni.numpy().decode('utf-8')}\")"
      ]
    },
    {
      "cell_type": "code",
      "execution_count": 31,
      "id": "21d30d6b-a52f-4f41-bde1-48e2606cc0b6",
      "metadata": {
        "id": "21d30d6b-a52f-4f41-bde1-48e2606cc0b6"
      },
      "outputs": [],
      "source": [
        "# Create training and validation set batches.\n",
        "train_batches = make_batches(train_ds)\n",
        "val_batches = make_batches(test_ds)"
      ]
    },
    {
      "cell_type": "markdown",
      "id": "84bd1172-9131-4a27-bdef-d18e1f953102",
      "metadata": {
        "id": "84bd1172-9131-4a27-bdef-d18e1f953102"
      },
      "source": [
        "# Define components"
      ]
    },
    {
      "cell_type": "markdown",
      "id": "caecafa3-7fe4-4266-8445-cba889fa0432",
      "metadata": {
        "id": "caecafa3-7fe4-4266-8445-cba889fa0432"
      },
      "source": [
        "## The embedding and positional encoding layer"
      ]
    },
    {
      "cell_type": "code",
      "execution_count": 32,
      "id": "3daf8494-88bb-4da2-bd36-bbce62489acf",
      "metadata": {
        "id": "3daf8494-88bb-4da2-bd36-bbce62489acf"
      },
      "outputs": [],
      "source": [
        "def positional_encoding(length, depth):\n",
        "  depth = depth/2\n",
        "\n",
        "  positions = np.arange(length)[:, np.newaxis]     # (seq, 1)\n",
        "  depths = np.arange(depth)[np.newaxis, :]/depth   # (1, depth)\n",
        "\n",
        "  angle_rates = 1 / (5000**depths)         # (1, depth)\n",
        "  angle_rads = positions * angle_rates      # (pos, depth)\n",
        "\n",
        "  pos_encoding = np.concatenate(\n",
        "      [np.sin(angle_rads), np.cos(angle_rads)],\n",
        "      axis=-1)\n",
        "\n",
        "  return tf.cast(pos_encoding, dtype=tf.float32)"
      ]
    },
    {
      "cell_type": "code",
      "execution_count": 33,
      "id": "40e8642b-c0a3-455c-b385-43bc01d1f99c",
      "metadata": {
        "colab": {
          "base_uri": "https://localhost:8080/",
          "height": 472
        },
        "id": "40e8642b-c0a3-455c-b385-43bc01d1f99c",
        "outputId": "6d273e91-229c-412a-d3bc-059ab1f54fb9"
      },
      "outputs": [
        {
          "output_type": "stream",
          "name": "stdout",
          "text": [
            "(2048, 256)\n"
          ]
        },
        {
          "output_type": "display_data",
          "data": {
            "text/plain": [
              "<Figure size 640x480 with 2 Axes>"
            ],
            "image/png": "[encoded data removed]"
          },
          "metadata": {}
        }
      ],
      "source": [
        "pos_encoding = positional_encoding(length=2048, depth=256)\n",
        "\n",
        "# Check the shape.\n",
        "print(pos_encoding.shape)\n",
        "\n",
        "# Plot the dimensions.\n",
        "plt.pcolormesh(pos_encoding.numpy().T, cmap='RdBu')\n",
        "plt.ylabel('Depth')\n",
        "plt.xlabel('Position')\n",
        "plt.colorbar()\n",
        "plt.show()"
      ]
    },
    {
      "cell_type": "code",
      "execution_count": 34,
      "id": "cb587d4f-0f16-497b-bb9c-388e4cbb4628",
      "metadata": {
        "colab": {
          "base_uri": "https://localhost:8080/",
          "height": 452
        },
        "id": "cb587d4f-0f16-497b-bb9c-388e4cbb4628",
        "outputId": "eeca4a39-5776-419c-e561-18978147cbfc"
      },
      "outputs": [
        {
          "output_type": "execute_result",
          "data": {
            "text/plain": [
              "(0.0, 1.0)"
            ]
          },
          "metadata": {},
          "execution_count": 34
        },
        {
          "output_type": "display_data",
          "data": {
            "text/plain": [
              "<Figure size 640x480 with 2 Axes>"
            ],
            "image/png": "[encoded data removed]"
          },
          "metadata": {}
        }
      ],
      "source": [
        "pos_encoding/=tf.norm(pos_encoding, axis=1, keepdims=True)\n",
        "p = pos_encoding[1000]\n",
        "dots = tf.einsum('pd,d -> p', pos_encoding, p)\n",
        "plt.subplot(2,1,1)\n",
        "plt.plot(dots)\n",
        "plt.ylim([0,1])\n",
        "plt.plot([950, 950, float('nan'), 1050, 1050],\n",
        "         [0,1,float('nan'),0,1], color='k', label='Zoom')\n",
        "plt.legend()\n",
        "plt.subplot(2,1,2)\n",
        "plt.plot(dots)\n",
        "plt.xlim([950, 1050])\n",
        "plt.ylim([0,1])"
      ]
    },
    {
      "cell_type": "code",
      "execution_count": 35,
      "id": "4a2ef94b-ae1f-41d7-9e3a-74a82f37b3ad",
      "metadata": {
        "id": "4a2ef94b-ae1f-41d7-9e3a-74a82f37b3ad"
      },
      "outputs": [],
      "source": [
        "class PositionalEmbedding(tf.keras.layers.Layer):\n",
        "  def __init__(self, vocab_size, d_model):\n",
        "    super().__init__()\n",
        "    self.d_model = d_model\n",
        "    self.embedding = tf.keras.layers.Embedding(vocab_size, d_model, mask_zero=True)\n",
        "    self.pos_encoding = positional_encoding(length=2048, depth=d_model)\n",
        "\n",
        "  def compute_mask(self, *args, **kwargs):\n",
        "    return self.embedding.compute_mask(*args, **kwargs)\n",
        "\n",
        "  def call(self, x):\n",
        "    length = tf.shape(x)[1]\n",
        "    x = self.embedding(x)\n",
        "    # This factor sets the relative scale of the embedding and positonal_encoding.\n",
        "    x *= tf.math.sqrt(tf.cast(self.d_model, tf.float32))\n",
        "    x = x + self.pos_encoding[tf.newaxis, :length, :]\n",
        "    return x"
      ]
    },
    {
      "cell_type": "code",
      "execution_count": 36,
      "id": "0978a705-d518-4e47-a80a-d40f636e563b",
      "metadata": {
        "colab": {
          "base_uri": "https://localhost:8080/"
        },
        "id": "0978a705-d518-4e47-a80a-d40f636e563b",
        "outputId": "bdbed270-6b88-4429-eb96-9c87c6a2856d"
      },
      "outputs": [
        {
          "output_type": "stream",
          "name": "stdout",
          "text": [
            "(200, 53)\n",
            "(200, 53)\n",
            "(200, 53)\n"
          ]
        }
      ],
      "source": [
        "for (asc, uni), uni_labels in train_batches.take(1):\n",
        "  break\n",
        "\n",
        "print(asc.shape)\n",
        "print(uni.shape)\n",
        "print(uni_labels.shape)"
      ]
    },
    {
      "cell_type": "code",
      "execution_count": 37,
      "id": "5c2a687f-d555-43ac-94a1-8fce764d6377",
      "metadata": {
        "colab": {
          "base_uri": "https://localhost:8080/"
        },
        "id": "5c2a687f-d555-43ac-94a1-8fce764d6377",
        "outputId": "16614554-7a23-40b4-c018-3f85232a2fe8"
      },
      "outputs": [
        {
          "output_type": "stream",
          "name": "stdout",
          "text": [
            "tf.Tensor([  2 595 206 190 305 200 372 331 593 738], shape=(10,), dtype=int64)\n",
            "tf.Tensor([595 206 190 305 200 372 331 593 738 226], shape=(10,), dtype=int64)\n"
          ]
        }
      ],
      "source": [
        "print(uni[0][:10])\n",
        "print(uni_labels[0][:10])"
      ]
    },
    {
      "cell_type": "code",
      "execution_count": 38,
      "id": "a22e938c-e274-433e-a24d-0e215d9d0060",
      "metadata": {
        "id": "a22e938c-e274-433e-a24d-0e215d9d0060"
      },
      "outputs": [],
      "source": [
        "embed_asc = PositionalEmbedding(vocab_size=tokenizers.asc.vocab_size().numpy(), d_model=512)\n",
        "embed_uni = PositionalEmbedding(vocab_size=tokenizers.uni.vocab_size().numpy(), d_model=512)"
      ]
    },
    {
      "cell_type": "code",
      "execution_count": 39,
      "id": "2b28d9f3-ab75-4b7d-9f78-23df3c8e7673",
      "metadata": {
        "id": "2b28d9f3-ab75-4b7d-9f78-23df3c8e7673"
      },
      "outputs": [],
      "source": [
        "asc_emb = embed_asc(asc)\n",
        "uni_emb = embed_uni(uni)"
      ]
    },
    {
      "cell_type": "markdown",
      "id": "589c270e-d845-46f0-ab15-f2c110d35cd8",
      "metadata": {
        "id": "589c270e-d845-46f0-ab15-f2c110d35cd8"
      },
      "source": [
        "## Add and normalize"
      ]
    },
    {
      "cell_type": "markdown",
      "id": "d405b160-f3fb-4ca3-b729-3c1d157153ef",
      "metadata": {
        "id": "d405b160-f3fb-4ca3-b729-3c1d157153ef"
      },
      "source": [
        "![image.png](attachment:7683b1bc-f7c9-46dc-87d5-c0b2e52cc50b.png)![image.png](attachment:517eedab-1c82-4d44-b3c7-f35d0f1501e2.png)"
      ]
    },
    {
      "cell_type": "code",
      "execution_count": 40,
      "id": "2787b45f-7b1a-4b21-bcaf-81c65dc1c7f9",
      "metadata": {
        "id": "2787b45f-7b1a-4b21-bcaf-81c65dc1c7f9"
      },
      "outputs": [],
      "source": [
        "class BaseAttention(tf.keras.layers.Layer):\n",
        "  def __init__(self, **kwargs):\n",
        "    super().__init__()\n",
        "    self.mha = tf.keras.layers.MultiHeadAttention(**kwargs)\n",
        "    self.layernorm = tf.keras.layers.LayerNormalization()\n",
        "    self.add = tf.keras.layers.Add()"
      ]
    },
    {
      "cell_type": "markdown",
      "id": "623a9a92-2c78-4392-bf3f-4ee2b803bd84",
      "metadata": {
        "id": "623a9a92-2c78-4392-bf3f-4ee2b803bd84"
      },
      "source": [
        "## The cross attention layer\n",
        "At the literal center of the Transformer is the cross-attention layer. This layer connects the encoder and decoder. This layer is the most straight-forward use of attention in the model.\n",
        "\n",
        "![image.png](attachment:44a3f7df-54db-4f3d-82c5-9404240ad8d6.png)![image.png](attachment:a61dcfbe-bb09-4c01-b809-29906b82fc97.png)\n"
      ]
    },
    {
      "cell_type": "code",
      "execution_count": 41,
      "id": "711c0a92-cdf5-49f5-a7ee-f335d680930a",
      "metadata": {
        "id": "711c0a92-cdf5-49f5-a7ee-f335d680930a"
      },
      "outputs": [],
      "source": [
        "class CrossAttention(BaseAttention):\n",
        "  def call(self, x, context):\n",
        "    attn_output, attn_scores = self.mha(\n",
        "        query=x,\n",
        "        key=context,\n",
        "        value=context,\n",
        "        return_attention_scores=True)\n",
        "\n",
        "    # Cache the attention scores for plotting later.\n",
        "    self.last_attn_scores = attn_scores\n",
        "\n",
        "    x = self.add([x, attn_output])\n",
        "    x = self.layernorm(x)\n",
        "\n",
        "    return x"
      ]
    },
    {
      "cell_type": "code",
      "execution_count": 42,
      "id": "b262800c-f1f2-4d80-871e-7f940c379008",
      "metadata": {
        "colab": {
          "base_uri": "https://localhost:8080/"
        },
        "id": "b262800c-f1f2-4d80-871e-7f940c379008",
        "outputId": "d7d59cab-6076-4c7e-be15-b9a93d9603cd"
      },
      "outputs": [
        {
          "output_type": "stream",
          "name": "stdout",
          "text": [
            "(200, 53, 512)\n",
            "(200, 53, 512)\n",
            "(200, 53, 512)\n"
          ]
        }
      ],
      "source": [
        "sample_ca = CrossAttention(num_heads=2, key_dim=512)\n",
        "\n",
        "print(asc_emb.shape)\n",
        "print(uni_emb.shape)\n",
        "print(sample_ca(uni_emb, asc_emb).shape)"
      ]
    },
    {
      "cell_type": "markdown",
      "id": "6207cf9d-be07-4199-b4d7-da04a9cc80e2",
      "metadata": {
        "id": "6207cf9d-be07-4199-b4d7-da04a9cc80e2"
      },
      "source": [
        "## The global self-attention layer\n",
        "![image.png](attachment:f3377969-efd0-4476-b5f4-4230203fb443.png)![image.png](attachment:3e281ada-9fe4-480e-b2d8-5918bed76756.png)"
      ]
    },
    {
      "cell_type": "code",
      "execution_count": 43,
      "id": "f8b5689a-cd0c-443d-a199-8c43a95b982b",
      "metadata": {
        "id": "f8b5689a-cd0c-443d-a199-8c43a95b982b"
      },
      "outputs": [],
      "source": [
        "class GlobalSelfAttention(BaseAttention):\n",
        "  def call(self, x):\n",
        "    attn_output = self.mha(\n",
        "        query=x,\n",
        "        value=x,\n",
        "        key=x)\n",
        "    x = self.add([x, attn_output])\n",
        "    x = self.layernorm(x)\n",
        "    return x"
      ]
    },
    {
      "cell_type": "code",
      "execution_count": 44,
      "id": "1ed81b7c-f8ed-4445-a3a3-43004a4a6860",
      "metadata": {
        "colab": {
          "base_uri": "https://localhost:8080/"
        },
        "id": "1ed81b7c-f8ed-4445-a3a3-43004a4a6860",
        "outputId": "16f056c6-22bd-4951-a682-2a1c22c5fcf9"
      },
      "outputs": [
        {
          "output_type": "stream",
          "name": "stdout",
          "text": [
            "(200, 53, 512)\n",
            "(200, 53, 512)\n"
          ]
        }
      ],
      "source": [
        "sample_gsa = GlobalSelfAttention(num_heads=2, key_dim=512)\n",
        "\n",
        "print(asc_emb.shape)\n",
        "print(sample_gsa(asc_emb).shape)"
      ]
    },
    {
      "cell_type": "markdown",
      "id": "093dc664-6998-4ae3-af80-11b989945438",
      "metadata": {
        "id": "093dc664-6998-4ae3-af80-11b989945438"
      },
      "source": [
        "## The causal self-attention layer\n",
        "![image.png](attachment:b2baf5d0-96d2-451e-aa8f-781bffee67ba.png)![image.png](attachment:04ffe1ed-d48f-4de2-a464-5fdc371b01aa.png)"
      ]
    },
    {
      "cell_type": "code",
      "execution_count": 45,
      "id": "e3efca63-49b8-4574-9d20-78fd7bf1fe46",
      "metadata": {
        "id": "e3efca63-49b8-4574-9d20-78fd7bf1fe46"
      },
      "outputs": [],
      "source": [
        "class CausalSelfAttention(BaseAttention):\n",
        "  def call(self, x):\n",
        "    attn_output = self.mha(\n",
        "        query=x,\n",
        "        value=x,\n",
        "        key=x,\n",
        "        use_causal_mask = True)\n",
        "    x = self.add([x, attn_output])\n",
        "    x = self.layernorm(x)\n",
        "    return x"
      ]
    },
    {
      "cell_type": "code",
      "execution_count": 46,
      "id": "c1ab180d-0817-4588-8722-32fdc0cf8ea0",
      "metadata": {
        "colab": {
          "base_uri": "https://localhost:8080/"
        },
        "id": "c1ab180d-0817-4588-8722-32fdc0cf8ea0",
        "outputId": "174dcb06-a309-4b42-92b8-86d821d9a45f"
      },
      "outputs": [
        {
          "output_type": "stream",
          "name": "stdout",
          "text": [
            "(200, 53, 512)\n",
            "(200, 53, 512)\n"
          ]
        }
      ],
      "source": [
        "sample_csa = CausalSelfAttention(num_heads=2, key_dim=512)\n",
        "\n",
        "print(uni_emb.shape)\n",
        "print(sample_csa(uni_emb).shape)\n"
      ]
    },
    {
      "cell_type": "markdown",
      "id": "f355702e-b405-43a1-badb-c82acbe4c167",
      "metadata": {
        "id": "f355702e-b405-43a1-badb-c82acbe4c167"
      },
      "source": [
        "## The feed forward network\n",
        "![image.png](attachment:f38ebfbe-e954-4c74-b85d-8825ea835c56.png)![image.png](attachment:6e971dca-1998-4e18-8dae-9740ca4505d4.png)"
      ]
    },
    {
      "cell_type": "code",
      "execution_count": 47,
      "id": "7d862704-7d0c-4a69-bd96-44cf2564bd21",
      "metadata": {
        "id": "7d862704-7d0c-4a69-bd96-44cf2564bd21"
      },
      "outputs": [],
      "source": [
        "class FeedForward(tf.keras.layers.Layer):\n",
        "  def __init__(self, d_model, dff, dropout_rate=0.1):\n",
        "    super().__init__()\n",
        "    self.seq = tf.keras.Sequential([\n",
        "      tf.keras.layers.Dense(dff, activation='relu'),\n",
        "      tf.keras.layers.Dense(d_model),\n",
        "      tf.keras.layers.Dropout(dropout_rate)\n",
        "    ])\n",
        "    self.add = tf.keras.layers.Add()\n",
        "    self.layer_norm = tf.keras.layers.LayerNormalization()\n",
        "\n",
        "  def call(self, x):\n",
        "    x = self.add([x, self.seq(x)])\n",
        "    x = self.layer_norm(x)\n",
        "    return x"
      ]
    },
    {
      "cell_type": "code",
      "execution_count": 48,
      "id": "5a275b47-3481-4999-90f1-064d838eb1b5",
      "metadata": {
        "colab": {
          "base_uri": "https://localhost:8080/"
        },
        "id": "5a275b47-3481-4999-90f1-064d838eb1b5",
        "outputId": "55e1236c-3dec-47f0-b05d-0270920a0e24"
      },
      "outputs": [
        {
          "output_type": "stream",
          "name": "stdout",
          "text": [
            "(200, 53, 512)\n",
            "(200, 53, 512)\n"
          ]
        }
      ],
      "source": [
        "sample_ffn = FeedForward(512, 2048)\n",
        "\n",
        "print(uni_emb.shape)\n",
        "print(sample_ffn(uni_emb).shape)\n"
      ]
    },
    {
      "cell_type": "markdown",
      "id": "a8a22788-a4f7-4d79-a8fa-d3a50a648428",
      "metadata": {
        "id": "a8a22788-a4f7-4d79-a8fa-d3a50a648428"
      },
      "source": [
        "## The encoder layer\n",
        "![image.png](attachment:ca4f8da8-20a4-42d5-94b9-e63b50f3708a.png)"
      ]
    },
    {
      "cell_type": "code",
      "execution_count": 49,
      "id": "54cae597-5386-4b21-95de-2b3079eafbb5",
      "metadata": {
        "id": "54cae597-5386-4b21-95de-2b3079eafbb5"
      },
      "outputs": [],
      "source": [
        "class EncoderLayer(tf.keras.layers.Layer):\n",
        "  def __init__(self,*, d_model, num_heads, dff, dropout_rate=0.1):\n",
        "    super().__init__()\n",
        "\n",
        "    self.self_attention = GlobalSelfAttention(\n",
        "        num_heads=num_heads,\n",
        "        key_dim=d_model,\n",
        "        dropout=dropout_rate)\n",
        "\n",
        "    self.ffn = FeedForward(d_model, dff)\n",
        "\n",
        "  def call(self, x):\n",
        "    x = self.self_attention(x)\n",
        "    x = self.ffn(x)\n",
        "    return x"
      ]
    },
    {
      "cell_type": "code",
      "execution_count": 50,
      "id": "253b6ed9-b7c7-408f-b276-d20c8bddcc21",
      "metadata": {
        "colab": {
          "base_uri": "https://localhost:8080/"
        },
        "id": "253b6ed9-b7c7-408f-b276-d20c8bddcc21",
        "outputId": "26977200-860b-4f21-f8fc-093b9ee500fb"
      },
      "outputs": [
        {
          "output_type": "stream",
          "name": "stdout",
          "text": [
            "(200, 53, 512)\n",
            "(200, 53, 512)\n"
          ]
        }
      ],
      "source": [
        "sample_encoder_layer = EncoderLayer(d_model=512, num_heads=8, dff=2048)\n",
        "\n",
        "print(asc_emb.shape)\n",
        "print(sample_encoder_layer(asc_emb).shape)\n"
      ]
    },
    {
      "cell_type": "markdown",
      "id": "189de5ae-f0d4-41f7-808f-a0de5cb0464b",
      "metadata": {
        "id": "189de5ae-f0d4-41f7-808f-a0de5cb0464b"
      },
      "source": [
        "## The encoder\n",
        "![image.png](attachment:4edffadc-372c-43e2-9e37-54919d647a00.png)"
      ]
    },
    {
      "cell_type": "code",
      "execution_count": 51,
      "id": "48e87f75-a985-462a-9af3-d3c9163f8dc0",
      "metadata": {
        "id": "48e87f75-a985-462a-9af3-d3c9163f8dc0"
      },
      "outputs": [],
      "source": [
        "class Encoder(tf.keras.layers.Layer):\n",
        "  def __init__(self, *, num_layers, d_model, num_heads,\n",
        "               dff, vocab_size, dropout_rate=0.1):\n",
        "    super().__init__()\n",
        "\n",
        "    self.d_model = d_model\n",
        "    self.num_layers = num_layers\n",
        "\n",
        "    self.pos_embedding = PositionalEmbedding(\n",
        "        vocab_size=vocab_size, d_model=d_model)\n",
        "\n",
        "    self.enc_layers = [\n",
        "        EncoderLayer(d_model=d_model,\n",
        "                     num_heads=num_heads,\n",
        "                     dff=dff,\n",
        "                     dropout_rate=dropout_rate)\n",
        "        for _ in range(num_layers)]\n",
        "    self.dropout = tf.keras.layers.Dropout(dropout_rate)\n",
        "\n",
        "  def call(self, x):\n",
        "    # `x` is token-IDs shape: (batch, seq_len)\n",
        "    x = self.pos_embedding(x)  # Shape `(batch_size, seq_len, d_model)`.\n",
        "\n",
        "    # Add dropout.\n",
        "    x = self.dropout(x)\n",
        "\n",
        "    for i in range(self.num_layers):\n",
        "      x = self.enc_layers[i](x)\n",
        "\n",
        "    return x  # Shape `(batch_size, seq_len, d_model)`.\n"
      ]
    },
    {
      "cell_type": "code",
      "execution_count": 52,
      "id": "a609f7e1-53a9-4a34-95a8-9560f2d84e0e",
      "metadata": {
        "colab": {
          "base_uri": "https://localhost:8080/"
        },
        "id": "a609f7e1-53a9-4a34-95a8-9560f2d84e0e",
        "outputId": "c20d1ae6-b5c9-4a51-e706-4bad89e18827"
      },
      "outputs": [
        {
          "output_type": "stream",
          "name": "stdout",
          "text": [
            "(200, 53)\n",
            "(200, 53, 512)\n"
          ]
        },
        {
          "output_type": "stream",
          "name": "stderr",
          "text": [
            "/usr/local/lib/python3.11/dist-packages/keras/src/layers/layer.py:938: UserWarning: Layer 'global_self_attention_2' (of type GlobalSelfAttention) was passed an input with a mask attached to it. However, this layer does not support masking and will therefore destroy the mask information. Downstream layers will not see the mask.\n",
            "  warnings.warn(\n",
            "/usr/local/lib/python3.11/dist-packages/keras/src/layers/layer.py:938: UserWarning: Layer 'encoder_layer_1' (of type EncoderLayer) was passed an input with a mask attached to it. However, this layer does not support masking and will therefore destroy the mask information. Downstream layers will not see the mask.\n",
            "  warnings.warn(\n"
          ]
        }
      ],
      "source": [
        "# Instantiate the encoder.\n",
        "sample_encoder = Encoder(num_layers=4,\n",
        "                         d_model=512,\n",
        "                         num_heads=8,\n",
        "                         dff=2048,\n",
        "                         vocab_size=8500)\n",
        "\n",
        "sample_encoder_output = sample_encoder(asc, training=False)\n",
        "\n",
        "# Print the shape.\n",
        "print(asc.shape)\n",
        "print(sample_encoder_output.shape)  # Shape `(batch_size, input_seq_len, d_model)`.\n"
      ]
    },
    {
      "cell_type": "markdown",
      "id": "40174dad-37fb-42f6-8ed7-3edeff4d6d02",
      "metadata": {
        "id": "40174dad-37fb-42f6-8ed7-3edeff4d6d02"
      },
      "source": [
        "## The decoder layer\n",
        "![image.png](attachment:91700f69-bb2c-4447-856e-c68659234b66.png)"
      ]
    },
    {
      "cell_type": "code",
      "execution_count": 53,
      "id": "1a53a88b-cbae-4b7f-84ef-d5a520c10283",
      "metadata": {
        "id": "1a53a88b-cbae-4b7f-84ef-d5a520c10283"
      },
      "outputs": [],
      "source": [
        "class DecoderLayer(tf.keras.layers.Layer):\n",
        "  def __init__(self,\n",
        "               *,\n",
        "               d_model,\n",
        "               num_heads,\n",
        "               dff,\n",
        "               dropout_rate=0.1):\n",
        "    super(DecoderLayer, self).__init__()\n",
        "\n",
        "    self.causal_self_attention = CausalSelfAttention(\n",
        "        num_heads=num_heads,\n",
        "        key_dim=d_model,\n",
        "        dropout=dropout_rate)\n",
        "\n",
        "    self.cross_attention = CrossAttention(\n",
        "        num_heads=num_heads,\n",
        "        key_dim=d_model,\n",
        "        dropout=dropout_rate)\n",
        "\n",
        "    self.ffn = FeedForward(d_model, dff)\n",
        "\n",
        "  def call(self, x, context):\n",
        "    x = self.causal_self_attention(x=x)\n",
        "    x = self.cross_attention(x=x, context=context)\n",
        "\n",
        "    # Cache the last attention scores for plotting later\n",
        "    self.last_attn_scores = self.cross_attention.last_attn_scores\n",
        "\n",
        "    x = self.ffn(x)  # Shape `(batch_size, seq_len, d_model)`.\n",
        "    return x\n"
      ]
    },
    {
      "cell_type": "code",
      "execution_count": 54,
      "id": "446fd0ea-c30f-4e39-ae37-baffd17e0987",
      "metadata": {
        "colab": {
          "base_uri": "https://localhost:8080/"
        },
        "id": "446fd0ea-c30f-4e39-ae37-baffd17e0987",
        "outputId": "66a8b616-b384-4bf9-c831-93341c6679ee"
      },
      "outputs": [
        {
          "output_type": "stream",
          "name": "stdout",
          "text": [
            "(200, 53, 512)\n",
            "(200, 53, 512)\n",
            "(200, 53, 512)\n"
          ]
        }
      ],
      "source": [
        "sample_decoder_layer = DecoderLayer(d_model=512, num_heads=8, dff=2048)\n",
        "\n",
        "sample_decoder_layer_output = sample_decoder_layer(\n",
        "    x=uni_emb, context=asc_emb)\n",
        "\n",
        "print(uni_emb.shape)\n",
        "print(asc_emb.shape)\n",
        "print(sample_decoder_layer_output.shape)  # `(batch_size, seq_len, d_model)`"
      ]
    },
    {
      "cell_type": "markdown",
      "id": "1f19b78a-0f29-433b-95f5-6ce6f65bb6cd",
      "metadata": {
        "id": "1f19b78a-0f29-433b-95f5-6ce6f65bb6cd"
      },
      "source": [
        "## The decoder\n",
        "![image.png](attachment:5332a536-dda4-456f-8324-27738fbf0c0f.png)"
      ]
    },
    {
      "cell_type": "code",
      "execution_count": 55,
      "id": "6be2dc63-3db9-45fa-984d-72e4c12493f7",
      "metadata": {
        "id": "6be2dc63-3db9-45fa-984d-72e4c12493f7"
      },
      "outputs": [],
      "source": [
        "class Decoder(tf.keras.layers.Layer):\n",
        "  def __init__(self, *, num_layers, d_model, num_heads, dff, vocab_size,\n",
        "               dropout_rate=0.1):\n",
        "    super(Decoder, self).__init__()\n",
        "\n",
        "    self.d_model = d_model\n",
        "    self.num_layers = num_layers\n",
        "\n",
        "    self.pos_embedding = PositionalEmbedding(vocab_size=vocab_size,\n",
        "                                             d_model=d_model)\n",
        "    self.dropout = tf.keras.layers.Dropout(dropout_rate)\n",
        "    self.dec_layers = [\n",
        "        DecoderLayer(d_model=d_model, num_heads=num_heads,\n",
        "                     dff=dff, dropout_rate=dropout_rate)\n",
        "        for _ in range(num_layers)]\n",
        "\n",
        "    self.last_attn_scores = None\n",
        "\n",
        "  def call(self, x, context):\n",
        "    # `x` is token-IDs shape (batch, target_seq_len)\n",
        "    x = self.pos_embedding(x)  # (batch_size, target_seq_len, d_model)\n",
        "\n",
        "    x = self.dropout(x)\n",
        "\n",
        "    for i in range(self.num_layers):\n",
        "      x  = self.dec_layers[i](x, context)\n",
        "\n",
        "    self.last_attn_scores = self.dec_layers[-1].last_attn_scores\n",
        "\n",
        "    # The shape of x is (batch_size, target_seq_len, d_model).\n",
        "    return x\n"
      ]
    },
    {
      "cell_type": "code",
      "execution_count": 56,
      "id": "b62a9ddb-8c1a-40ef-901f-86d6959ee349",
      "metadata": {
        "colab": {
          "base_uri": "https://localhost:8080/"
        },
        "id": "b62a9ddb-8c1a-40ef-901f-86d6959ee349",
        "outputId": "6016c646-bc17-470f-c805-09b87faf43ed"
      },
      "outputs": [
        {
          "output_type": "stream",
          "name": "stderr",
          "text": [
            "/usr/local/lib/python3.11/dist-packages/keras/src/layers/layer.py:938: UserWarning: Layer 'causal_self_attention_2' (of type CausalSelfAttention) was passed an input with a mask attached to it. However, this layer does not support masking and will therefore destroy the mask information. Downstream layers will not see the mask.\n",
            "  warnings.warn(\n",
            "/usr/local/lib/python3.11/dist-packages/keras/src/layers/layer.py:938: UserWarning: Layer 'decoder_layer_1' (of type DecoderLayer) was passed an input with a mask attached to it. However, this layer does not support masking and will therefore destroy the mask information. Downstream layers will not see the mask.\n",
            "  warnings.warn(\n"
          ]
        },
        {
          "output_type": "stream",
          "name": "stdout",
          "text": [
            "(200, 53)\n",
            "(200, 53, 512)\n",
            "(200, 53, 512)\n"
          ]
        }
      ],
      "source": [
        "# Instantiate the decoder.\n",
        "sample_decoder = Decoder(num_layers=4,\n",
        "                         d_model=512,\n",
        "                         num_heads=8,\n",
        "                         dff=2048,\n",
        "                         vocab_size=8000)\n",
        "\n",
        "output = sample_decoder(\n",
        "    x=uni,\n",
        "    context=asc_emb)\n",
        "\n",
        "# Print the shapes.\n",
        "print(uni.shape)\n",
        "print(asc_emb.shape)\n",
        "print(output.shape)"
      ]
    },
    {
      "cell_type": "code",
      "execution_count": 57,
      "id": "2c620505-fbfd-4542-bc2b-bd69895b3e48",
      "metadata": {
        "colab": {
          "base_uri": "https://localhost:8080/"
        },
        "id": "2c620505-fbfd-4542-bc2b-bd69895b3e48",
        "outputId": "179d6e98-6d51-4333-cbf5-a7a7dd405345"
      },
      "outputs": [
        {
          "output_type": "execute_result",
          "data": {
            "text/plain": [
              "TensorShape([200, 8, 53, 53])"
            ]
          },
          "metadata": {},
          "execution_count": 57
        }
      ],
      "source": [
        "sample_decoder.last_attn_scores.shape  # (batch, heads, target_seq, input_seq)"
      ]
    },
    {
      "cell_type": "markdown",
      "id": "ac4e79f8-11ea-4a32-9fa4-5611789f1bb4",
      "metadata": {
        "id": "ac4e79f8-11ea-4a32-9fa4-5611789f1bb4"
      },
      "source": [
        "## The Transformer\n",
        "To complete the Transformer model, you need to put them together and add a final linear (Dense) layer which converts the resulting vector at each location into output token probabilities.\n",
        "\n",
        "The output of the decoder is the input to this final linear layer.\n",
        "\n",
        "![image.png](attachment:22184b58-ac65-4154-80fe-411237893092.png)"
      ]
    },
    {
      "cell_type": "code",
      "execution_count": 58,
      "id": "addbb0cb-e4c0-4ef4-bd3e-c49f5a4d7b31",
      "metadata": {
        "id": "addbb0cb-e4c0-4ef4-bd3e-c49f5a4d7b31"
      },
      "outputs": [],
      "source": [
        "class Transformer(tf.keras.Model):\n",
        "  def __init__(self, *, num_layers, d_model, num_heads, dff,\n",
        "               input_vocab_size, target_vocab_size, dropout_rate=0.1):\n",
        "    super().__init__()\n",
        "    self.encoder = Encoder(num_layers=num_layers, d_model=d_model,\n",
        "                           num_heads=num_heads, dff=dff,\n",
        "                           vocab_size=input_vocab_size,\n",
        "                           dropout_rate=dropout_rate)\n",
        "\n",
        "    self.decoder = Decoder(num_layers=num_layers, d_model=d_model,\n",
        "                           num_heads=num_heads, dff=dff,\n",
        "                           vocab_size=target_vocab_size,\n",
        "                           dropout_rate=dropout_rate)\n",
        "\n",
        "    self.final_layer = tf.keras.layers.Dense(target_vocab_size)\n",
        "\n",
        "  def call(self, inputs):\n",
        "    # To use a Keras model with `.fit` you must pass all your inputs in the\n",
        "    # first argument.\n",
        "    context, x  = inputs\n",
        "\n",
        "    context = self.encoder(context)  # (batch_size, context_len, d_model)\n",
        "\n",
        "    x = self.decoder(x, context)  # (batch_size, target_len, d_model)\n",
        "\n",
        "    # Final linear layer output.\n",
        "    logits = self.final_layer(x)  # (batch_size, target_len, target_vocab_size)\n",
        "\n",
        "    try:\n",
        "      # Drop the keras mask, so it doesn't scale the losses/metrics.\n",
        "      # b/250038731\n",
        "      del logits._keras_mask\n",
        "    except AttributeError:\n",
        "      pass\n",
        "\n",
        "    # Return the final output and the attention weights.\n",
        "    return logits\n"
      ]
    },
    {
      "cell_type": "code",
      "execution_count": 59,
      "id": "4006bd3c-9cef-469f-bf4d-ad189b78d3b1",
      "metadata": {
        "id": "4006bd3c-9cef-469f-bf4d-ad189b78d3b1"
      },
      "outputs": [],
      "source": [
        "num_layers = 4\n",
        "d_model = 128\n",
        "dff = 512\n",
        "num_heads = 8\n",
        "dropout_rate = 0.1"
      ]
    },
    {
      "cell_type": "code",
      "execution_count": 60,
      "id": "41e3ca2c-481b-42f9-a01b-1211a687a302",
      "metadata": {
        "id": "41e3ca2c-481b-42f9-a01b-1211a687a302"
      },
      "outputs": [],
      "source": [
        "transformer = Transformer(\n",
        "    num_layers=num_layers,\n",
        "    d_model=d_model,\n",
        "    num_heads=num_heads,\n",
        "    dff=dff,\n",
        "    input_vocab_size=tokenizers.asc.vocab_size().numpy(),\n",
        "    target_vocab_size=tokenizers.uni.vocab_size().numpy(),\n",
        "    dropout_rate=dropout_rate)\n"
      ]
    },
    {
      "cell_type": "code",
      "execution_count": 61,
      "id": "35b03e47-f996-48dd-b9cc-0f6785543b67",
      "metadata": {
        "colab": {
          "base_uri": "https://localhost:8080/"
        },
        "id": "35b03e47-f996-48dd-b9cc-0f6785543b67",
        "outputId": "325b3653-0edd-46bb-afc8-ae399230a0b0"
      },
      "outputs": [
        {
          "output_type": "stream",
          "name": "stderr",
          "text": [
            "/usr/local/lib/python3.11/dist-packages/keras/src/layers/layer.py:938: UserWarning: Layer 'global_self_attention_6' (of type GlobalSelfAttention) was passed an input with a mask attached to it. However, this layer does not support masking and will therefore destroy the mask information. Downstream layers will not see the mask.\n",
            "  warnings.warn(\n",
            "/usr/local/lib/python3.11/dist-packages/keras/src/layers/layer.py:938: UserWarning: Layer 'encoder_layer_5' (of type EncoderLayer) was passed an input with a mask attached to it. However, this layer does not support masking and will therefore destroy the mask information. Downstream layers will not see the mask.\n",
            "  warnings.warn(\n",
            "/usr/local/lib/python3.11/dist-packages/keras/src/layers/layer.py:938: UserWarning: Layer 'causal_self_attention_6' (of type CausalSelfAttention) was passed an input with a mask attached to it. However, this layer does not support masking and will therefore destroy the mask information. Downstream layers will not see the mask.\n",
            "  warnings.warn(\n",
            "/usr/local/lib/python3.11/dist-packages/keras/src/layers/layer.py:938: UserWarning: Layer 'decoder_layer_5' (of type DecoderLayer) was passed an input with a mask attached to it. However, this layer does not support masking and will therefore destroy the mask information. Downstream layers will not see the mask.\n",
            "  warnings.warn(\n"
          ]
        },
        {
          "output_type": "stream",
          "name": "stdout",
          "text": [
            "(200, 53)\n",
            "(200, 53)\n",
            "(200, 53, 7909)\n"
          ]
        }
      ],
      "source": [
        "output = transformer((asc, uni))\n",
        "\n",
        "print(uni.shape)\n",
        "print(asc.shape)\n",
        "print(output.shape)"
      ]
    },
    {
      "cell_type": "code",
      "execution_count": 62,
      "id": "e3c3d3dd-a770-44ee-821e-8f0b4ed0a9fe",
      "metadata": {
        "colab": {
          "base_uri": "https://localhost:8080/"
        },
        "id": "e3c3d3dd-a770-44ee-821e-8f0b4ed0a9fe",
        "outputId": "d7de347e-9752-49ef-80d9-aa6033a411f3"
      },
      "outputs": [
        {
          "output_type": "stream",
          "name": "stdout",
          "text": [
            "(200, 8, 53, 53)\n"
          ]
        }
      ],
      "source": [
        "attn_scores = transformer.decoder.dec_layers[-1].last_attn_scores\n",
        "print(attn_scores.shape)  # (batch, heads, target_seq, input_seq)"
      ]
    },
    {
      "cell_type": "markdown",
      "id": "36df7527-23bb-485d-ba52-6b30f2c49b00",
      "metadata": {
        "id": "36df7527-23bb-485d-ba52-6b30f2c49b00"
      },
      "source": [
        "# Training\n",
        "It's time to prepare the model and start training it."
      ]
    },
    {
      "cell_type": "markdown",
      "id": "1ed6f44d-c2a5-42c0-ab7b-4be282f96958",
      "metadata": {
        "id": "1ed6f44d-c2a5-42c0-ab7b-4be282f96958"
      },
      "source": [
        "## Set up the optimizer"
      ]
    },
    {
      "cell_type": "code",
      "execution_count": 63,
      "id": "003b1055-cde7-448a-9451-0a85e45091a0",
      "metadata": {
        "id": "003b1055-cde7-448a-9451-0a85e45091a0"
      },
      "outputs": [],
      "source": [
        "class CustomSchedule(tf.keras.optimizers.schedules.LearningRateSchedule):\n",
        "  def __init__(self, d_model, warmup_steps=4000):\n",
        "    super().__init__()\n",
        "\n",
        "    self.d_model = d_model\n",
        "    self.d_model = tf.cast(self.d_model, tf.float32)\n",
        "\n",
        "    self.warmup_steps = warmup_steps\n",
        "\n",
        "  def __call__(self, step):\n",
        "    step = tf.cast(step, dtype=tf.float32)\n",
        "    arg1 = tf.math.rsqrt(step)\n",
        "    arg2 = step * (self.warmup_steps ** -1.5)\n",
        "\n",
        "    return tf.math.rsqrt(self.d_model) * tf.math.minimum(arg1, arg2)\n"
      ]
    },
    {
      "cell_type": "code",
      "execution_count": 64,
      "id": "a1bfa3dc-29f1-4f7a-af72-1b9c81236ea4",
      "metadata": {
        "id": "a1bfa3dc-29f1-4f7a-af72-1b9c81236ea4"
      },
      "outputs": [],
      "source": [
        "learning_rate = CustomSchedule(d_model)\n",
        "\n",
        "optimizer = tf.keras.optimizers.Adam(learning_rate, beta_1=0.9, beta_2=0.98,\n",
        "                                     epsilon=1e-9)\n"
      ]
    },
    {
      "cell_type": "code",
      "execution_count": 65,
      "id": "de96875d-2073-4a9a-8ee4-096b79a110d3",
      "metadata": {
        "colab": {
          "base_uri": "https://localhost:8080/",
          "height": 466
        },
        "id": "de96875d-2073-4a9a-8ee4-096b79a110d3",
        "outputId": "74cd2459-4f87-4c33-fb7b-44da6b01210c"
      },
      "outputs": [
        {
          "output_type": "execute_result",
          "data": {
            "text/plain": [
              "Text(0.5, 0, 'Train Step')"
            ]
          },
          "metadata": {},
          "execution_count": 65
        },
        {
          "output_type": "display_data",
          "data": {
            "text/plain": [
              "<Figure size 640x480 with 1 Axes>"
            ],
            "image/png": "[encoded data removed]"
          },
          "metadata": {}
        }
      ],
      "source": [
        "plt.plot(learning_rate(tf.range(40000, dtype=tf.float32)))\n",
        "plt.ylabel('Learning Rate')\n",
        "plt.xlabel('Train Step')"
      ]
    },
    {
      "cell_type": "markdown",
      "id": "f082914b-12a3-464d-a8aa-4b85ab361790",
      "metadata": {
        "id": "f082914b-12a3-464d-a8aa-4b85ab361790"
      },
      "source": [
        "## Set up the loss and metrics"
      ]
    },
    {
      "cell_type": "code",
      "execution_count": 66,
      "id": "1b72923e-afb5-4e7f-b7f3-5ba21585b800",
      "metadata": {
        "id": "1b72923e-afb5-4e7f-b7f3-5ba21585b800"
      },
      "outputs": [],
      "source": [
        "def masked_loss(label, pred):\n",
        "  mask = label != 0\n",
        "  loss_object = tf.keras.losses.SparseCategoricalCrossentropy(\n",
        "    from_logits=True, reduction='none')\n",
        "  loss = loss_object(label, pred)\n",
        "\n",
        "  mask = tf.cast(mask, dtype=loss.dtype)\n",
        "  loss *= mask\n",
        "\n",
        "  loss = tf.reduce_sum(loss)/tf.reduce_sum(mask)\n",
        "  return loss\n",
        "\n",
        "\n",
        "def masked_accuracy(label, pred):\n",
        "  pred = tf.argmax(pred, axis=2)\n",
        "  label = tf.cast(label, pred.dtype)\n",
        "  match = label == pred\n",
        "\n",
        "  mask = label != 0\n",
        "\n",
        "  match = match & mask\n",
        "\n",
        "  match = tf.cast(match, dtype=tf.float32)\n",
        "  mask = tf.cast(mask, dtype=tf.float32)\n",
        "  return tf.reduce_sum(match)/tf.reduce_sum(mask)\n"
      ]
    },
    {
      "cell_type": "code",
      "execution_count": 67,
      "id": "d4857dbb-90a3-4109-bacb-85586f45cfc1",
      "metadata": {
        "id": "d4857dbb-90a3-4109-bacb-85586f45cfc1"
      },
      "outputs": [],
      "source": [
        "transformer.compile(\n",
        "    loss=masked_loss,\n",
        "    optimizer=optimizer,\n",
        "    metrics=[masked_accuracy])"
      ]
    },
    {
      "cell_type": "code",
      "execution_count": 68,
      "id": "57c7ea27-eb95-4d80-b94d-4695fe7da311",
      "metadata": {
        "scrolled": true,
        "colab": {
          "base_uri": "https://localhost:8080/"
        },
        "id": "57c7ea27-eb95-4d80-b94d-4695fe7da311",
        "outputId": "0f25ccc6-1c33-4b79-eb4b-de31d295c574"
      },
      "outputs": [
        {
          "output_type": "stream",
          "name": "stdout",
          "text": [
            "Epoch 1/20\n",
            "   1184/Unknown \u001b[1m465s\u001b[0m 353ms/step - loss: 7.4173 - masked_accuracy: 0.1042"
          ]
        },
        {
          "output_type": "stream",
          "name": "stderr",
          "text": [
            "/usr/local/lib/python3.11/dist-packages/keras/src/trainers/epoch_iterator.py:151: UserWarning: Your input ran out of data; interrupting training. Make sure that your dataset or generator can generate at least `steps_per_epoch * epochs` batches. You may need to use the `.repeat()` function when building your dataset.\n",
            "  self._interrupted_warning()\n"
          ]
        },
        {
          "output_type": "stream",
          "name": "stdout",
          "text": [
            "\b\b\b\b\b\b\b\b\b\b\b\b\b\b\b\b\b\b\b\b\b\b\b\b\b\b\b\b\b\b\b\b\b\b\b\b\b\b\b\b\b\b\b\b\b\b\b\b\b\b\b\b\b\b\b\b\b\b\b\b\b\b\b\b\b\b\b\b\b\b\b\b\r\u001b[1m1184/1184\u001b[0m \u001b[32m━━━━━━━━━━━━━━━━━━━━\u001b[0m\u001b[37m\u001b[0m \u001b[1m467s\u001b[0m 355ms/step - loss: 7.4157 - masked_accuracy: 0.1043\n",
            "Epoch 2/20\n",
            "\u001b[1m1184/1184\u001b[0m \u001b[32m━━━━━━━━━━━━━━━━━━━━\u001b[0m\u001b[37m\u001b[0m \u001b[1m442s\u001b[0m 372ms/step - loss: 1.4553 - masked_accuracy: 0.7397\n",
            "Epoch 3/20\n",
            "\u001b[1m1184/1184\u001b[0m \u001b[32m━━━━━━━━━━━━━━━━━━━━\u001b[0m\u001b[37m\u001b[0m \u001b[1m469s\u001b[0m 345ms/step - loss: 0.6536 - masked_accuracy: 0.8587\n",
            "Epoch 4/20\n",
            "\u001b[1m1184/1184\u001b[0m \u001b[32m━━━━━━━━━━━━━━━━━━━━\u001b[0m\u001b[37m\u001b[0m \u001b[1m0s\u001b[0m 362ms/step - loss: 0.4224 - masked_accuracy: 0.9000"
          ]
        },
        {
          "output_type": "stream",
          "name": "stderr",
          "text": [
            "/usr/local/lib/python3.11/dist-packages/keras/src/trainers/epoch_iterator.py:151: UserWarning: Your input ran out of data; interrupting training. Make sure that your dataset or generator can generate at least `steps_per_epoch * epochs` batches. You may need to use the `.repeat()` function when building your dataset.\n",
            "  self._interrupted_warning()\n"
          ]
        },
        {
          "output_type": "stream",
          "name": "stdout",
          "text": [
            "\b\b\b\b\b\b\b\b\b\b\b\b\b\b\b\b\b\b\b\b\b\b\b\b\b\b\b\b\b\b\b\b\b\b\b\b\b\b\b\b\b\b\b\b\b\b\b\b\b\b\b\b\b\b\b\b\b\b\b\b\b\b\b\b\b\b\b\b\b\b\b\b\b\b\b\b\b\b\b\b\b\b\b\b\b\r\u001b[1m1184/1184\u001b[0m \u001b[32m━━━━━━━━━━━━━━━━━━━━\u001b[0m\u001b[37m\u001b[0m \u001b[1m431s\u001b[0m 363ms/step - loss: 0.4224 - masked_accuracy: 0.9000\n",
            "Epoch 5/20\n",
            "\u001b[1m1184/1184\u001b[0m \u001b[32m━━━━━━━━━━━━━━━━━━━━\u001b[0m\u001b[37m\u001b[0m \u001b[1m407s\u001b[0m 343ms/step - loss: 0.2245 - masked_accuracy: 0.9407\n",
            "Epoch 6/20\n",
            "\u001b[1m1184/1184\u001b[0m \u001b[32m━━━━━━━━━━━━━━━━━━━━\u001b[0m\u001b[37m\u001b[0m \u001b[1m442s\u001b[0m 372ms/step - loss: 0.1598 - masked_accuracy: 0.9567\n",
            "Epoch 7/20\n",
            "\u001b[1m1184/1184\u001b[0m \u001b[32m━━━━━━━━━━━━━━━━━━━━\u001b[0m\u001b[37m\u001b[0m \u001b[1m442s\u001b[0m 372ms/step - loss: 0.1256 - masked_accuracy: 0.9655\n",
            "Epoch 8/20\n",
            "\u001b[1m1184/1184\u001b[0m \u001b[32m━━━━━━━━━━━━━━━━━━━━\u001b[0m\u001b[37m\u001b[0m \u001b[1m466s\u001b[0m 342ms/step - loss: 0.1020 - masked_accuracy: 0.9717\n",
            "Epoch 9/20\n",
            "\u001b[1m1184/1184\u001b[0m \u001b[32m━━━━━━━━━━━━━━━━━━━━\u001b[0m\u001b[37m\u001b[0m \u001b[1m407s\u001b[0m 343ms/step - loss: 0.0870 - masked_accuracy: 0.9759\n",
            "Epoch 10/20\n",
            "\u001b[1m1184/1184\u001b[0m \u001b[32m━━━━━━━━━━━━━━━━━━━━\u001b[0m\u001b[37m\u001b[0m \u001b[1m442s\u001b[0m 372ms/step - loss: 0.0736 - masked_accuracy: 0.9795\n",
            "Epoch 11/20\n",
            "\u001b[1m1184/1184\u001b[0m \u001b[32m━━━━━━━━━━━━━━━━━━━━\u001b[0m\u001b[37m\u001b[0m \u001b[1m406s\u001b[0m 341ms/step - loss: 0.0641 - masked_accuracy: 0.9821\n",
            "Epoch 12/20\n",
            "\u001b[1m1184/1184\u001b[0m \u001b[32m━━━━━━━━━━━━━━━━━━━━\u001b[0m\u001b[37m\u001b[0m \u001b[1m406s\u001b[0m 342ms/step - loss: 0.0555 - masked_accuracy: 0.9844\n",
            "Epoch 13/20\n",
            "\u001b[1m1184/1184\u001b[0m \u001b[32m━━━━━━━━━━━━━━━━━━━━\u001b[0m\u001b[37m\u001b[0m \u001b[1m442s\u001b[0m 342ms/step - loss: 0.0482 - masked_accuracy: 0.9865\n",
            "Epoch 14/20\n",
            "\u001b[1m1184/1184\u001b[0m \u001b[32m━━━━━━━━━━━━━━━━━━━━\u001b[0m\u001b[37m\u001b[0m \u001b[1m405s\u001b[0m 341ms/step - loss: 0.0426 - masked_accuracy: 0.9880\n",
            "Epoch 15/20\n",
            "\u001b[1m1184/1184\u001b[0m \u001b[32m━━━━━━━━━━━━━━━━━━━━\u001b[0m\u001b[37m\u001b[0m \u001b[1m443s\u001b[0m 342ms/step - loss: 0.0379 - masked_accuracy: 0.9895\n",
            "Epoch 16/20\n",
            "\u001b[1m1184/1184\u001b[0m \u001b[32m━━━━━━━━━━━━━━━━━━━━\u001b[0m\u001b[37m\u001b[0m \u001b[1m405s\u001b[0m 341ms/step - loss: 0.0330 - masked_accuracy: 0.9907\n",
            "Epoch 17/20\n",
            "\u001b[1m1184/1184\u001b[0m \u001b[32m━━━━━━━━━━━━━━━━━━━━\u001b[0m\u001b[37m\u001b[0m \u001b[1m502s\u001b[0m 392ms/step - loss: 0.0292 - masked_accuracy: 0.9918\n",
            "Epoch 18/20\n",
            "\u001b[1m1184/1184\u001b[0m \u001b[32m━━━━━━━━━━━━━━━━━━━━\u001b[0m\u001b[37m\u001b[0m \u001b[1m442s\u001b[0m 341ms/step - loss: 0.0262 - masked_accuracy: 0.9927\n",
            "Epoch 19/20\n",
            "\u001b[1m1184/1184\u001b[0m \u001b[32m━━━━━━━━━━━━━━━━━━━━\u001b[0m\u001b[37m\u001b[0m \u001b[1m442s\u001b[0m 342ms/step - loss: 0.0237 - masked_accuracy: 0.9934\n",
            "Epoch 20/20\n",
            "\u001b[1m1184/1184\u001b[0m \u001b[32m━━━━━━━━━━━━━━━━━━━━\u001b[0m\u001b[37m\u001b[0m \u001b[1m442s\u001b[0m 372ms/step - loss: 0.0204 - masked_accuracy: 0.9943\n"
          ]
        },
        {
          "output_type": "execute_result",
          "data": {
            "text/plain": [
              "<keras.src.callbacks.history.History at 0x79f70d2b0c90>"
            ]
          },
          "metadata": {},
          "execution_count": 68
        }
      ],
      "source": [
        "transformer.fit(train_batches,\n",
        "                epochs=20,\n",
        "                validation_data=val_batches)"
      ]
    },
    {
      "cell_type": "markdown",
      "id": "65ab6f38-b06f-4188-b2bb-90b5e4d54ca6",
      "metadata": {
        "id": "65ab6f38-b06f-4188-b2bb-90b5e4d54ca6"
      },
      "source": [
        "## Run inference\n",
        "The following steps are used for inference:\n",
        "\n",
        "- Encode the input sentence using the ASCII tokenizer (tokenizers.asc). This is the encoder input.\n",
        "- The decoder input is initialized to the [START] token.\n",
        "- Calculate the padding masks and the look ahead masks.\n",
        "- The decoder then outputs the predictions by looking at the encoder output and its own output (self-attention).\n",
        "- Concatenate the predicted token to the decoder input and pass it to the decoder.\n",
        "- In this approach, the decoder predicts the next token based on the previous tokens it predicted.\n"
      ]
    },
    {
      "cell_type": "code",
      "execution_count": 69,
      "id": "e14a66e1-1d86-4fe3-a358-b61ea6232f02",
      "metadata": {
        "id": "e14a66e1-1d86-4fe3-a358-b61ea6232f02"
      },
      "outputs": [],
      "source": [
        "class Translator(tf.Module):\n",
        "  def __init__(self, tokenizers, transformer):\n",
        "    self.tokenizers = tokenizers\n",
        "    self.transformer = transformer\n",
        "\n",
        "  def __call__(self, sentence, max_length=MAX_TOKENS):\n",
        "    # The input sentence is ASC, hence adding the `[START]` and `[END]` tokens.\n",
        "    assert isinstance(sentence, tf.Tensor)\n",
        "    if len(sentence.shape) == 0:\n",
        "      sentence = sentence[tf.newaxis]\n",
        "\n",
        "    sentence = self.tokenizers.asc.tokenize(sentence).to_tensor()\n",
        "\n",
        "    encoder_input = sentence\n",
        "\n",
        "    # As the output language is English, initialize the output with the\n",
        "    # English `[START]` token.\n",
        "    start_end = self.tokenizers.uni.tokenize([''])[0]\n",
        "    start = start_end[0][tf.newaxis]\n",
        "    end = start_end[1][tf.newaxis]\n",
        "\n",
        "    # `tf.TensorArray` is required here (instead of a Python list), so that the\n",
        "    # dynamic-loop can be traced by `tf.function`.\n",
        "    output_array = tf.TensorArray(dtype=tf.int64, size=0, dynamic_size=True)\n",
        "    output_array = output_array.write(0, start)\n",
        "\n",
        "    for i in tf.range(max_length):\n",
        "      output = tf.transpose(output_array.stack())\n",
        "      predictions = self.transformer([encoder_input, output], training=False)\n",
        "\n",
        "      # Select the last token from the `seq_len` dimension.\n",
        "      predictions = predictions[:, -1:, :]  # Shape `(batch_size, 1, vocab_size)`.\n",
        "\n",
        "      predicted_id = tf.argmax(predictions, axis=-1)\n",
        "\n",
        "      # Concatenate the `predicted_id` to the output which is given to the\n",
        "      # decoder as its input.\n",
        "      output_array = output_array.write(i+1, predicted_id[0])\n",
        "\n",
        "      if predicted_id == end:\n",
        "        break\n",
        "\n",
        "    output = tf.transpose(output_array.stack())\n",
        "    # The output shape is `(1, tokens)`.\n",
        "    text = tokenizers.uni.detokenize(output)[0]  # Shape: `()`.\n",
        "\n",
        "    tokens = tokenizers.uni.lookup(output)[0]\n",
        "\n",
        "    # `tf.function` prevents us from using the attention_weights that were\n",
        "    # calculated on the last iteration of the loop.\n",
        "    # So, recalculate them outside the loop.\n",
        "    self.transformer([encoder_input, output[:,:-1]], training=False)\n",
        "    attention_weights = self.transformer.decoder.last_attn_scores\n",
        "\n",
        "    return text, tokens, attention_weights\n"
      ]
    },
    {
      "cell_type": "code",
      "execution_count": 70,
      "id": "b559cd74-6879-4587-9334-cf93fca0b55f",
      "metadata": {
        "id": "b559cd74-6879-4587-9334-cf93fca0b55f"
      },
      "outputs": [],
      "source": [
        "translator = Translator(tokenizers, transformer)"
      ]
    },
    {
      "cell_type": "code",
      "execution_count": 71,
      "id": "c8b06daf-cd1d-488b-8dcc-ec1cc2a48b69",
      "metadata": {
        "id": "c8b06daf-cd1d-488b-8dcc-ec1cc2a48b69"
      },
      "outputs": [],
      "source": [
        "def print_translation(sentence, tokens, ground_truth):\n",
        "  print(f'{\"Input:\":15s}: {sentence}')\n",
        "  print(f'{\"Prediction\":15s}: {tokens.numpy().decode(\"utf-8\")}')\n",
        "  print(f'{\"Ground truth\":15s}: {ground_truth}')\n"
      ]
    },
    {
      "cell_type": "code",
      "execution_count": 72,
      "id": "7bac7735-5898-409b-802a-9a04a812a274",
      "metadata": {
        "colab": {
          "base_uri": "https://localhost:8080/"
        },
        "id": "7bac7735-5898-409b-802a-9a04a812a274",
        "outputId": "86064cfc-e879-44d0-bec2-60332691d06b"
      },
      "outputs": [
        {
          "output_type": "stream",
          "name": "stderr",
          "text": [
            "/usr/local/lib/python3.11/dist-packages/keras/src/layers/layer.py:938: UserWarning: Layer 'global_self_attention_6' (of type GlobalSelfAttention) was passed an input with a mask attached to it. However, this layer does not support masking and will therefore destroy the mask information. Downstream layers will not see the mask.\n",
            "  warnings.warn(\n",
            "/usr/local/lib/python3.11/dist-packages/keras/src/layers/layer.py:938: UserWarning: Layer 'encoder_layer_5' (of type EncoderLayer) was passed an input with a mask attached to it. However, this layer does not support masking and will therefore destroy the mask information. Downstream layers will not see the mask.\n",
            "  warnings.warn(\n",
            "/usr/local/lib/python3.11/dist-packages/keras/src/ops/nn.py:907: UserWarning: You are using a softmax over axis 3 of a tensor of shape (1, 8, 1, 1). This axis has size 1. The softmax operation will always return the value 1, which is likely not what you intended. Did you mean to use a sigmoid instead?\n",
            "  warnings.warn(\n",
            "/usr/local/lib/python3.11/dist-packages/keras/src/layers/layer.py:938: UserWarning: Layer 'causal_self_attention_6' (of type CausalSelfAttention) was passed an input with a mask attached to it. However, this layer does not support masking and will therefore destroy the mask information. Downstream layers will not see the mask.\n",
            "  warnings.warn(\n",
            "/usr/local/lib/python3.11/dist-packages/keras/src/layers/layer.py:938: UserWarning: Layer 'decoder_layer_5' (of type DecoderLayer) was passed an input with a mask attached to it. However, this layer does not support masking and will therefore destroy the mask information. Downstream layers will not see the mask.\n",
            "  warnings.warn(\n"
          ]
        },
        {
          "output_type": "stream",
          "name": "stdout",
          "text": [
            "Input:         : Thuyen tinh vua ghe toi noi\n",
            "Prediction     : Thuyền tỉnh vừa ghé tới nơi\n",
            "Ground truth   : Thuyền tình vừa ghé tới nơi\n"
          ]
        }
      ],
      "source": [
        "sentence = 'Thuyen tinh vua ghe toi noi'\n",
        "ground_truth = 'Thuyền tình vừa ghé tới nơi'\n",
        "\n",
        "translated_text, translated_tokens, attention_weights = translator(\n",
        "    tf.constant(sentence))\n",
        "print_translation(sentence, translated_text, ground_truth)"
      ]
    },
    {
      "cell_type": "code",
      "execution_count": 73,
      "id": "3490ce65-44a5-4b5d-ae78-3dd4766fdbe3",
      "metadata": {
        "id": "3490ce65-44a5-4b5d-ae78-3dd4766fdbe3"
      },
      "outputs": [],
      "source": [
        "class ExportTranslator(tf.Module):\n",
        "  def __init__(self, translator):\n",
        "    self.translator = translator\n",
        "\n",
        "  @tf.function(input_signature=[tf.TensorSpec(shape=[], dtype=tf.string)])\n",
        "  def __call__(self, sentence):\n",
        "    (result,\n",
        "     tokens,\n",
        "     attention_weights) = self.translator(sentence, max_length=MAX_TOKENS)\n",
        "\n",
        "    return result"
      ]
    },
    {
      "cell_type": "code",
      "execution_count": 74,
      "id": "9112f28c-d4a8-40f7-9f09-e93de90ffd71",
      "metadata": {
        "colab": {
          "base_uri": "https://localhost:8080/",
          "height": 35
        },
        "id": "9112f28c-d4a8-40f7-9f09-e93de90ffd71",
        "outputId": "397f8008-e42d-447b-df8f-d3b99c52beca"
      },
      "outputs": [
        {
          "output_type": "execute_result",
          "data": {
            "text/plain": [
              "'hôm nay thời tiết bà miễn có nắng nóng , nhiệt độ trung bình trên 30 độ CBQ'"
            ],
            "application/vnd.google.colaboratory.intrinsic+json": {
              "type": "string"
            }
          },
          "metadata": {},
          "execution_count": 74
        }
      ],
      "source": [
        "export_translator = ExportTranslator(translator)\n",
        "export_translator('hom nay thoi tiet ba mien co nang nong, nhiet do trung binh tren 30 do C.').numpy().decode()"
      ]
    },
    {
      "cell_type": "code",
      "execution_count": 75,
      "id": "594fe00a-f7c7-4ebe-9150-1e67326f0ec0",
      "metadata": {
        "colab": {
          "base_uri": "https://localhost:8080/"
        },
        "id": "594fe00a-f7c7-4ebe-9150-1e67326f0ec0",
        "outputId": "e0441a0f-755e-4158-fd7f-aee6176b8d67"
      },
      "outputs": [
        {
          "output_type": "stream",
          "name": "stderr",
          "text": [
            "/usr/local/lib/python3.11/dist-packages/keras/src/layers/layer.py:938: UserWarning: Layer 'global_self_attention_6' (of type GlobalSelfAttention) was passed an input with a mask attached to it. However, this layer does not support masking and will therefore destroy the mask information. Downstream layers will not see the mask.\n",
            "  warnings.warn(\n",
            "/usr/local/lib/python3.11/dist-packages/keras/src/layers/layer.py:938: UserWarning: Layer 'encoder_layer_5' (of type EncoderLayer) was passed an input with a mask attached to it. However, this layer does not support masking and will therefore destroy the mask information. Downstream layers will not see the mask.\n",
            "  warnings.warn(\n",
            "/usr/local/lib/python3.11/dist-packages/keras/src/layers/layer.py:938: UserWarning: Layer 'causal_self_attention_6' (of type CausalSelfAttention) was passed an input with a mask attached to it. However, this layer does not support masking and will therefore destroy the mask information. Downstream layers will not see the mask.\n",
            "  warnings.warn(\n",
            "/usr/local/lib/python3.11/dist-packages/keras/src/layers/layer.py:938: UserWarning: Layer 'decoder_layer_5' (of type DecoderLayer) was passed an input with a mask attached to it. However, this layer does not support masking and will therefore destroy the mask information. Downstream layers will not see the mask.\n",
            "  warnings.warn(\n",
            "/usr/local/lib/python3.11/dist-packages/keras/src/layers/layer.py:938: UserWarning: Layer 'global_self_attention_6' (of type GlobalSelfAttention) was passed an input with a mask attached to it. However, this layer does not support masking and will therefore destroy the mask information. Downstream layers will not see the mask.\n",
            "  warnings.warn(\n",
            "/usr/local/lib/python3.11/dist-packages/keras/src/layers/layer.py:938: UserWarning: Layer 'encoder_layer_5' (of type EncoderLayer) was passed an input with a mask attached to it. However, this layer does not support masking and will therefore destroy the mask information. Downstream layers will not see the mask.\n",
            "  warnings.warn(\n",
            "/usr/local/lib/python3.11/dist-packages/keras/src/layers/layer.py:938: UserWarning: Layer 'causal_self_attention_6' (of type CausalSelfAttention) was passed an input with a mask attached to it. However, this layer does not support masking and will therefore destroy the mask information. Downstream layers will not see the mask.\n",
            "  warnings.warn(\n",
            "/usr/local/lib/python3.11/dist-packages/keras/src/layers/layer.py:938: UserWarning: Layer 'decoder_layer_5' (of type DecoderLayer) was passed an input with a mask attached to it. However, this layer does not support masking and will therefore destroy the mask information. Downstream layers will not see the mask.\n",
            "  warnings.warn(\n"
          ]
        }
      ],
      "source": [
        "tf.saved_model.save(obj=export_translator, export_dir='translator')"
      ]
    },
    {
      "cell_type": "code",
      "source": [
        "reload_translator = tf.saved_model.load('translator')\n",
        "reload_translator('hom nay thoi tiet ba mien co nang nong, nhiet do trung binh tren 30 do C.').numpy().decode()"
      ],
      "metadata": {
        "colab": {
          "base_uri": "https://localhost:8080/",
          "height": 35
        },
        "id": "FUdm4VcAyKd1",
        "outputId": "bb1eec0a-a318-4ae5-de8e-a63da0d4c658"
      },
      "id": "FUdm4VcAyKd1",
      "execution_count": 76,
      "outputs": [
        {
          "output_type": "execute_result",
          "data": {
            "text/plain": [
              "'hôm nay thời tiết bà miễn có nắng nóng , nhiệt độ trung bình trên 30 độ CBQ'"
            ],
            "application/vnd.google.colaboratory.intrinsic+json": {
              "type": "string"
            }
          },
          "metadata": {},
          "execution_count": 76
        }
      ]
    },
    {
      "cell_type": "code",
      "source": [
        "! zip -r translator.zip translator/"
      ],
      "metadata": {
        "colab": {
          "base_uri": "https://localhost:8080/"
        },
        "id": "jrzS-TjsyaQA",
        "outputId": "8b8e7dde-7ad8-4309-c001-da47cf248255"
      },
      "id": "jrzS-TjsyaQA",
      "execution_count": 77,
      "outputs": [
        {
          "output_type": "stream",
          "name": "stdout",
          "text": [
            "  adding: translator/ (stored 0%)\n",
            "  adding: translator/variables/ (stored 0%)\n",
            "  adding: translator/variables/variables.data-00000-of-00001 (deflated 7%)\n",
            "  adding: translator/variables/variables.index (deflated 79%)\n",
            "  adding: translator/saved_model.pb (deflated 67%)\n",
            "  adding: translator/fingerprint.pb (stored 0%)\n",
            "  adding: translator/assets/ (stored 0%)\n",
            "  adding: translator/assets/vn-news-uni-vocab.txt (deflated 45%)\n",
            "  adding: translator/assets/vn-news-asc-vocab.txt (deflated 42%)\n"
          ]
        }
      ]
    },
    {
      "cell_type": "markdown",
      "source": [],
      "metadata": {
        "id": "9yxwCMeiVpsh"
      },
      "id": "9yxwCMeiVpsh"
    },
    {
      "cell_type": "code",
      "source": [
        "from google.colab import files\n",
        "files.download('translator.zip')"
      ],
      "metadata": {
        "colab": {
          "base_uri": "https://localhost:8080/",
          "height": 17
        },
        "id": "4rVPCkAGVrI4",
        "outputId": "7599806b-2841-43b6-bffb-ab9c28549490"
      },
      "id": "4rVPCkAGVrI4",
      "execution_count": 79,
      "outputs": [
        {
          "output_type": "display_data",
          "data": {
            "text/plain": [
              "<IPython.core.display.Javascript object>"
            ],
            "application/javascript": [
              "\n",
              "    async function download(id, filename, size) {\n",
              "      if (!google.colab.kernel.accessAllowed) {\n",
              "        return;\n",
              "      }\n",
              "      const div = document.createElement('div');\n",
              "      const label = document.createElement('label');\n",
              "      label.textContent = `Downloading \"${filename}\": `;\n",
              "      div.appendChild(label);\n",
              "      const progress = document.createElement('progress');\n",
              "      progress.max = size;\n",
              "      div.appendChild(progress);\n",
              "      document.body.appendChild(div);\n",
              "\n",
              "      const buffers = [];\n",
              "      let downloaded = 0;\n",
              "\n",
              "      const channel = await google.colab.kernel.comms.open(id);\n",
              "      // Send a message to notify the kernel that we're ready.\n",
              "      channel.send({})\n",
              "\n",
              "      for await (const message of channel.messages) {\n",
              "        // Send a message to notify the kernel that we're ready.\n",
              "        channel.send({})\n",
              "        if (message.buffers) {\n",
              "          for (const buffer of message.buffers) {\n",
              "            buffers.push(buffer);\n",
              "            downloaded += buffer.byteLength;\n",
              "            progress.value = downloaded;\n",
              "          }\n",
              "        }\n",
              "      }\n",
              "      const blob = new Blob(buffers, {type: 'application/binary'});\n",
              "      const a = document.createElement('a');\n",
              "      a.href = window.URL.createObjectURL(blob);\n",
              "      a.download = filename;\n",
              "      div.appendChild(a);\n",
              "      a.click();\n",
              "      div.remove();\n",
              "    }\n",
              "  "
            ]
          },
          "metadata": {}
        },
        {
          "output_type": "display_data",
          "data": {
            "text/plain": [
              "<IPython.core.display.Javascript object>"
            ],
            "application/javascript": [
              "download(\"download_88e778b2-1104-49da-860e-7e042a9ebcab\", \"translator.zip\", 116455840)"
            ]
          },
          "metadata": {}
        }
      ]
    },
    {
      "cell_type": "code",
      "source": [],
      "metadata": {
        "id": "WbQoe_YCWYEQ"
      },
      "id": "WbQoe_YCWYEQ",
      "execution_count": null,
      "outputs": []
    }
  ],
  "metadata": {
    "kernelspec": {
      "display_name": "Python 3",
      "name": "python3"
    },
    "language_info": {
      "codemirror_mode": {
        "name": "ipython",
        "version": 3
      },
      "file_extension": ".py",
      "mimetype": "text/x-python",
      "name": "python",
      "nbconvert_exporter": "python",
      "pygments_lexer": "ipython3",
      "version": "3.12.6"
    },
    "colab": {
      "provenance": [],
      "gpuType": "T4"
    },
    "accelerator": "GPU"
  },
  "nbformat": 4,
  "nbformat_minor": 5
}